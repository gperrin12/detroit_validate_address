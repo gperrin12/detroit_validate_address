{
 "cells": [
  {
   "cell_type": "markdown",
   "id": "65b47713-0657-4b01-bef5-246e75fce435",
   "metadata": {},
   "source": [
    "## Project 5\n",
    "- created 5-16-22 by GTP\n",
    "- https://docs.google.com/document/d/1LIJTlCsx54zIG5sOX3heSj00YqdzhZ9c/edit\n",
    "- *Description*: BSEED has entered a lot of data into free text fields within Accela. Would be useful to find ways to scrape and organize this data so it is useable. Unit data and Certificates of Occupancy are some of our biggest gaps. This might be a way to use administrative data to version and validate 2020 data.\n",
    "- Technical Skill Level: Medium-High. Skilled at applying Regex to text strings using SQL and/or Python. Experience working with geospatial data, in ArcGIS or otherwise.\n",
    "- Scope: There are 595 records in the Certificates of Occupancy dataset and 5,930 records in the Certificates of Compliance dataset. Depending on skill level, this could take 6-8 weeks.\n",
    "- Inputs: Certificates of Compliance, Certificates of Occupancy, Rental Registration data\n",
    "- General Process:\n",
    "- Use GIS or Base Units Explorer tool to link Certificates of Occupancy to specific building ids, to create timestamps for when a building was ready for occupants.\n",
    "- Geocode the addresses in the Certificate of Compliance and Rental Registration datasets and note any addresses that can’t be matched through a manual rematching process and may be missing altogether from the database.\n"
   ]
  },
  {
   "cell_type": "code",
   "execution_count": 1,
   "id": "1c7c41b3-8ce2-4619-a91a-f926300413fd",
   "metadata": {},
   "outputs": [],
   "source": [
    "#import data libraries\n",
    "import pandas as pd\n",
    "import numpy as np\n",
    "import matplotlib.pyplot as plt\n",
    "import seaborn as sns\n",
    "import math\n",
    "import numbers\n",
    "import decimal\n",
    "#import data science packages\n",
    "import scipy\n",
    "import scipy.stats as stats\n",
    "\n",
    "np.random.seed(222)\n",
    "%matplotlib inline"
   ]
  },
  {
   "cell_type": "code",
   "execution_count": 2,
   "id": "3b4e94bb-25f8-484e-806d-8826041b9a58",
   "metadata": {},
   "outputs": [
    {
     "name": "stderr",
     "output_type": "stream",
     "text": [
      "/Users/geoffperrin/miniconda3/lib/python3.8/site-packages/pysal/explore/segregation/network/network.py:15: UserWarning: You need pandana and urbanaccess to work with segregation's network module\n",
      "You can install them with  `pip install urbanaccess pandana` or `conda install -c udst pandana urbanaccess`\n",
      "  warn(\n",
      "/Users/geoffperrin/miniconda3/lib/python3.8/site-packages/pysal/model/spvcm/abstracts.py:10: UserWarning: The `dill` module is required to use the sqlite backend fully.\n",
      "  from .sqlite import head_to_sql, start_sql\n"
     ]
    }
   ],
   "source": [
    "#import geographic analysis libraries\n",
    "import geopandas as gpd\n",
    "from geopandas import GeoDataFrame\n",
    "import shapely as shp\n",
    "from shapely.geometry import Point\n",
    "from shapely.geometry import shape\n",
    "import os\n",
    "import re\n",
    "from fiona.crs import from_epsg\n",
    "import pysal as ps"
   ]
  },
  {
   "cell_type": "code",
   "execution_count": 3,
   "id": "da1dcf4d-71a5-49bb-805e-516ff2abd42f",
   "metadata": {},
   "outputs": [],
   "source": [
    "#set crs for entire analysis\n",
    "crs = {'init': 'epsg:4326'}"
   ]
  },
  {
   "cell_type": "markdown",
   "id": "1d6ad141-8fbd-4b92-93f2-c941f6cb4ab9",
   "metadata": {},
   "source": [
    "### data sources\n",
    "\n",
    "Certificates of Occupancy: https://data.detroitmi.gov/datasets/certificates-of-occupancy-1/explore\n",
    "\n",
    "Certificates of Compliance: https://data.detroitmi.gov/datasets/certificates-of-compliance-1/explore\n",
    "\n",
    "Rental Registrations: https://data.detroitmi.gov/datasets/rental-statuses-1/explore"
   ]
  },
  {
   "cell_type": "markdown",
   "id": "908c647b-6976-4cfc-8c51-2704eafc3408",
   "metadata": {},
   "source": [
    "## Geocoding\n",
    "- first 2.5k free...?\n",
    "https://developers.google.com/maps/documentation/geocoding/#Limits"
   ]
  },
  {
   "cell_type": "code",
   "execution_count": null,
   "id": "9438217d-964b-4d3c-8ef0-2f7fb27e438b",
   "metadata": {},
   "outputs": [],
   "source": []
  }
 ],
 "metadata": {
  "kernelspec": {
   "display_name": "Python 3",
   "language": "python",
   "name": "python3"
  },
  "language_info": {
   "codemirror_mode": {
    "name": "ipython",
    "version": 3
   },
   "file_extension": ".py",
   "mimetype": "text/x-python",
   "name": "python",
   "nbconvert_exporter": "python",
   "pygments_lexer": "ipython3",
   "version": "3.8.11"
  }
 },
 "nbformat": 4,
 "nbformat_minor": 5
}
