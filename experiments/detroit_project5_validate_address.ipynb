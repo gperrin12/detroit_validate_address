{
 "cells": [
  {
   "cell_type": "markdown",
   "id": "65b47713-0657-4b01-bef5-246e75fce435",
   "metadata": {},
   "source": [
    "## Project 5\n",
    "- created 5-16-22 by GTP\n",
    "- https://docs.google.com/document/d/1LIJTlCsx54zIG5sOX3heSj00YqdzhZ9c/edit\n",
    "- *Description*: BSEED has entered a lot of data into free text fields within Accela. Would be useful to find ways to scrape and organize this data so it is useable. Unit data and Certificates of Occupancy are some of our biggest gaps. This might be a way to use administrative data to version and validate 2020 data.\n",
    "- Technical Skill Level: Medium-High. Skilled at applying Regex to text strings using SQL and/or Python. Experience working with geospatial data, in ArcGIS or otherwise.\n",
    "- Scope: There are 595 records in the Certificates of Occupancy dataset and 5,930 records in the Certificates of Compliance dataset. Depending on skill level, this could take 6-8 weeks.\n",
    "- Inputs: Certificates of Compliance, Certificates of Occupancy, Rental Registration data\n",
    "- General Process:\n",
    "- Use GIS or Base Units Explorer tool to link Certificates of Occupancy to specific building ids, to create timestamps for when a building was ready for occupants.\n",
    "- Geocode the addresses in the Certificate of Compliance and Rental Registration datasets and note any addresses that can’t be matched through a manual rematching process and may be missing altogether from the database.\n"
   ]
  },
  {
   "cell_type": "code",
   "execution_count": 1,
   "id": "1c7c41b3-8ce2-4619-a91a-f926300413fd",
   "metadata": {},
   "outputs": [],
   "source": [
    "#import data libraries\n",
    "import pandas as pd\n",
    "import numpy as np\n",
    "import matplotlib.pyplot as plt\n",
    "import seaborn as sns\n",
    "import math\n",
    "import numbers\n",
    "import decimal\n",
    "#import data science packages\n",
    "import scipy\n",
    "import scipy.stats as stats\n",
    "\n",
    "np.random.seed(222)\n",
    "%matplotlib inline"
   ]
  },
  {
   "cell_type": "code",
   "execution_count": 2,
   "id": "3b4e94bb-25f8-484e-806d-8826041b9a58",
   "metadata": {},
   "outputs": [
    {
     "name": "stderr",
     "output_type": "stream",
     "text": [
      "/Users/geoffperrin/miniconda3/lib/python3.8/site-packages/pysal/explore/segregation/network/network.py:15: UserWarning: You need pandana and urbanaccess to work with segregation's network module\n",
      "You can install them with  `pip install urbanaccess pandana` or `conda install -c udst pandana urbanaccess`\n",
      "  warn(\n",
      "/Users/geoffperrin/miniconda3/lib/python3.8/site-packages/pysal/model/spvcm/abstracts.py:10: UserWarning: The `dill` module is required to use the sqlite backend fully.\n",
      "  from .sqlite import head_to_sql, start_sql\n"
     ]
    }
   ],
   "source": [
    "#import geographic analysis libraries\n",
    "import geopandas as gpd\n",
    "from geopandas import GeoDataFrame\n",
    "import shapely as shp\n",
    "from shapely.geometry import Point\n",
    "from shapely.geometry import shape\n",
    "import os\n",
    "import re\n",
    "from fiona.crs import from_epsg\n",
    "import pysal as ps\n",
    "import re\n",
    "from googlemaps import Client as GoogleMaps\n",
    "import googlemaps\n",
    "import gmaps"
   ]
  },
  {
   "cell_type": "code",
   "execution_count": 3,
   "id": "4df10b44-9446-4413-bc5c-0a69467d4e6c",
   "metadata": {},
   "outputs": [],
   "source": [
    "# This is where we will need the API key\n",
    "gmaps = googlemaps.Client(key=os.environ['GOOGLE_GEOCODER_API'])"
   ]
  },
  {
   "cell_type": "code",
   "execution_count": 4,
   "id": "da1dcf4d-71a5-49bb-805e-516ff2abd42f",
   "metadata": {},
   "outputs": [],
   "source": [
    "#set crs for entire analysis\n",
    "crs = {'init': 'epsg:4326'}"
   ]
  },
  {
   "cell_type": "markdown",
   "id": "1d6ad141-8fbd-4b92-93f2-c941f6cb4ab9",
   "metadata": {},
   "source": [
    "### data sources\n",
    "\n",
    "Certificates of Occupancy: https://data.detroitmi.gov/datasets/certificates-of-occupancy-1/explore\n",
    "- BSEED says that new building (or a rehabbed / renovated building) has satisfied their requirements for habitation, and people can move in / it is ready for occupancy\n",
    "- note: alice says that this can be issued for individual floors \n",
    "- _goal_: deliverable should be a table that is the certificate of occupancy number (record_id) and building footprint ids - sometimes these are 1 to 1 and then sometimes multiple occupancy numbers might relate to a single id\n",
    "- the census challenge is interested in having this as a record to when exactly a new building was technically 'habitable' - the \"birthdate\" of the property in terms of occupancy\n",
    "\n",
    "Certificates of Compliance: https://data.detroitmi.gov/datasets/certificates-of-compliance-1/explore\n",
    "- this is for properties to be certified as 'compliant' by the city\n",
    "- Alice has access to the dataset of compliance that has 'description' - which should contain additional details..?\n",
    "- I think this will be more trying to geocode the ones that don't have lat/lon\n",
    "- _goal_: there's 33 that didn't geocode - goal is to geocode these and then give description if couldn't geocode\n",
    "\n",
    "Rental Registrations: https://data.detroitmi.gov/datasets/rental-statuses-1/explore\n",
    "- (6-1-22): I'll address this next week with Alice on our next call\n",
    "\n",
    "Base Units: https://base-units-detroitmi.hub.arcgis.com/datasets/detroitmi::units-1/about\n",
    "- jimmy mcbroom put this together\n",
    "\n",
    "https://cityofdetroit.github.io/base-unit-tools/explorer"
   ]
  },
  {
   "cell_type": "markdown",
   "id": "f41d8814-6b94-4fdb-a3de-58fcae67c05c",
   "metadata": {},
   "source": [
    "## further notes:\n",
    "- (6-28-22): \n",
    "- city geocoder: "
   ]
  },
  {
   "cell_type": "code",
   "execution_count": 5,
   "id": "0f5b3da4-31ee-4775-a454-71df0985ad8a",
   "metadata": {},
   "outputs": [],
   "source": [
    "compliance_gdf = gpd.read_file('../data/Certificates_Of_Compliance/Certificates_Of_Compliance.shp')"
   ]
  },
  {
   "cell_type": "code",
   "execution_count": 6,
   "id": "2b668344-c79e-4ca3-b244-cd689fe721a2",
   "metadata": {},
   "outputs": [
    {
     "data": {
      "text/plain": [
       "6071"
      ]
     },
     "execution_count": 6,
     "metadata": {},
     "output_type": "execute_result"
    }
   ],
   "source": [
    "len(compliance_gdf)"
   ]
  },
  {
   "cell_type": "code",
   "execution_count": 7,
   "id": "e0a59b58-2ef7-467b-aec2-cbf1904ac6d1",
   "metadata": {},
   "outputs": [
    {
     "data": {
      "text/plain": [
       "33"
      ]
     },
     "execution_count": 7,
     "metadata": {},
     "output_type": "execute_result"
    }
   ],
   "source": [
    "len(compliance_gdf[compliance_gdf['geometry'].isna()])"
   ]
  },
  {
   "cell_type": "code",
   "execution_count": 8,
   "id": "55e41535-aaad-4786-a9b2-b7e914a59818",
   "metadata": {},
   "outputs": [],
   "source": [
    "compliance_gdf_nogeocode = compliance_gdf[compliance_gdf['geometry'].isna()]"
   ]
  },
  {
   "cell_type": "code",
   "execution_count": 9,
   "id": "606d808d-8d20-40d6-9a26-33afda952428",
   "metadata": {},
   "outputs": [
    {
     "name": "stderr",
     "output_type": "stream",
     "text": [
      "/Users/geoffperrin/miniconda3/lib/python3.8/site-packages/geopandas/geodataframe.py:1322: SettingWithCopyWarning: \n",
      "A value is trying to be set on a copy of a slice from a DataFrame.\n",
      "Try using .loc[row_indexer,col_indexer] = value instead\n",
      "\n",
      "See the caveats in the documentation: https://pandas.pydata.org/pandas-docs/stable/user_guide/indexing.html#returning-a-view-versus-a-copy\n",
      "  super(GeoDataFrame, self).__setitem__(key, value)\n"
     ]
    }
   ],
   "source": [
    "compliance_gdf_nogeocode['street_dir'] = compliance_gdf_nogeocode['street_dir'].apply(lambda x: str(x))\n",
    "compliance_gdf_nogeocode['street_dir'] = pd.Series(compliance_gdf_nogeocode['street_dir']).str.replace('None', '', regex=False)\n",
    "compliance_gdf_nogeocode['street_typ'] = compliance_gdf_nogeocode['street_typ'].apply(lambda x: str(x))\n",
    "compliance_gdf_nogeocode['street_typ'] = pd.Series(compliance_gdf_nogeocode['street_typ']).str.replace('None', '', regex=False)"
   ]
  },
  {
   "cell_type": "code",
   "execution_count": 10,
   "id": "cd451e2f-a3c0-434a-a1bb-9ce5ce6b68ec",
   "metadata": {},
   "outputs": [
    {
     "name": "stderr",
     "output_type": "stream",
     "text": [
      "/Users/geoffperrin/miniconda3/lib/python3.8/site-packages/geopandas/geodataframe.py:1322: SettingWithCopyWarning: \n",
      "A value is trying to be set on a copy of a slice from a DataFrame.\n",
      "Try using .loc[row_indexer,col_indexer] = value instead\n",
      "\n",
      "See the caveats in the documentation: https://pandas.pydata.org/pandas-docs/stable/user_guide/indexing.html#returning-a-view-versus-a-copy\n",
      "  super(GeoDataFrame, self).__setitem__(key, value)\n"
     ]
    }
   ],
   "source": [
    "compliance_gdf_nogeocode['address_for_geocode'] = compliance_gdf_nogeocode['street_num'].astype(str) + ' ' +\\\n",
    "                                                  compliance_gdf_nogeocode['street_dir'].astype(str) + ' ' +\\\n",
    "                                                  compliance_gdf_nogeocode['street_nam'].astype(str) + ' ' +\\\n",
    "                                                  compliance_gdf_nogeocode['street_typ'].astype(str) + ' ' +\\\n",
    "                                                  'DETROIT MI'"
   ]
  },
  {
   "cell_type": "code",
   "execution_count": 11,
   "id": "60c1857e-5936-4fc6-9112-9e0035253e8e",
   "metadata": {},
   "outputs": [],
   "source": [
    "def google_geocode(address_to_geocode):\n",
    "    geocode_result = gmaps.geocode(address_to_geocode)\n",
    "    lat = geocode_result[0]['geometry']['location']['lat']\n",
    "    lon = geocode_result[0]['geometry']['location']['lng']\n",
    "    return lat, lon"
   ]
  },
  {
   "cell_type": "code",
   "execution_count": 12,
   "id": "8c1cff0f-0bcf-4276-a9f7-954711a749d8",
   "metadata": {},
   "outputs": [],
   "source": [
    "def return_lat(lat_lon):\n",
    "    return lat_lon[0]\n",
    "\n",
    "def return_lon(lat_lon):\n",
    "    return lat_lon[1]"
   ]
  },
  {
   "cell_type": "code",
   "execution_count": 13,
   "id": "955e12c5-be28-4027-98c6-131c3e60dace",
   "metadata": {},
   "outputs": [
    {
     "name": "stderr",
     "output_type": "stream",
     "text": [
      "/Users/geoffperrin/miniconda3/lib/python3.8/site-packages/geopandas/geodataframe.py:1322: SettingWithCopyWarning: \n",
      "A value is trying to be set on a copy of a slice from a DataFrame.\n",
      "Try using .loc[row_indexer,col_indexer] = value instead\n",
      "\n",
      "See the caveats in the documentation: https://pandas.pydata.org/pandas-docs/stable/user_guide/indexing.html#returning-a-view-versus-a-copy\n",
      "  super(GeoDataFrame, self).__setitem__(key, value)\n"
     ]
    }
   ],
   "source": [
    "compliance_gdf_nogeocode['lat_lon'] = compliance_gdf_nogeocode['address_for_geocode'].apply(lambda x: google_geocode(x))"
   ]
  },
  {
   "cell_type": "code",
   "execution_count": 14,
   "id": "5dea5c2a-b1bc-4577-91c0-29bfed5a6eb4",
   "metadata": {},
   "outputs": [
    {
     "name": "stderr",
     "output_type": "stream",
     "text": [
      "/Users/geoffperrin/miniconda3/lib/python3.8/site-packages/geopandas/geodataframe.py:1322: SettingWithCopyWarning: \n",
      "A value is trying to be set on a copy of a slice from a DataFrame.\n",
      "Try using .loc[row_indexer,col_indexer] = value instead\n",
      "\n",
      "See the caveats in the documentation: https://pandas.pydata.org/pandas-docs/stable/user_guide/indexing.html#returning-a-view-versus-a-copy\n",
      "  super(GeoDataFrame, self).__setitem__(key, value)\n",
      "/Users/geoffperrin/miniconda3/lib/python3.8/site-packages/geopandas/geodataframe.py:1322: SettingWithCopyWarning: \n",
      "A value is trying to be set on a copy of a slice from a DataFrame.\n",
      "Try using .loc[row_indexer,col_indexer] = value instead\n",
      "\n",
      "See the caveats in the documentation: https://pandas.pydata.org/pandas-docs/stable/user_guide/indexing.html#returning-a-view-versus-a-copy\n",
      "  super(GeoDataFrame, self).__setitem__(key, value)\n"
     ]
    }
   ],
   "source": [
    "compliance_gdf_nogeocode['new_lat'] = compliance_gdf_nogeocode['lat_lon'].apply(return_lat)\n",
    "compliance_gdf_nogeocode['new_lon'] = compliance_gdf_nogeocode['lat_lon'].apply(return_lon)"
   ]
  },
  {
   "cell_type": "code",
   "execution_count": 15,
   "id": "775d0444-3171-45a7-9000-194a9b281828",
   "metadata": {},
   "outputs": [
    {
     "data": {
      "text/html": [
       "<div>\n",
       "<style scoped>\n",
       "    .dataframe tbody tr th:only-of-type {\n",
       "        vertical-align: middle;\n",
       "    }\n",
       "\n",
       "    .dataframe tbody tr th {\n",
       "        vertical-align: top;\n",
       "    }\n",
       "\n",
       "    .dataframe thead th {\n",
       "        text-align: right;\n",
       "    }\n",
       "</style>\n",
       "<table border=\"1\" class=\"dataframe\">\n",
       "  <thead>\n",
       "    <tr style=\"text-align: right;\">\n",
       "      <th></th>\n",
       "      <th>record_id</th>\n",
       "      <th>street_num</th>\n",
       "      <th>street_dir</th>\n",
       "      <th>street_nam</th>\n",
       "      <th>street_typ</th>\n",
       "      <th>task</th>\n",
       "      <th>status</th>\n",
       "      <th>record_sta</th>\n",
       "      <th>parcel_id</th>\n",
       "      <th>lon</th>\n",
       "      <th>lat</th>\n",
       "      <th>ObjectId</th>\n",
       "      <th>geometry</th>\n",
       "      <th>address_for_geocode</th>\n",
       "      <th>lat_lon</th>\n",
       "      <th>new_lat</th>\n",
       "      <th>new_lon</th>\n",
       "    </tr>\n",
       "  </thead>\n",
       "  <tbody>\n",
       "    <tr>\n",
       "      <th>3746</th>\n",
       "      <td>PMB2017-04314</td>\n",
       "      <td>16157</td>\n",
       "      <td></td>\n",
       "      <td>FIELDING</td>\n",
       "      <td></td>\n",
       "      <td>Issue CofC</td>\n",
       "      <td>Issued</td>\n",
       "      <td>2019-05-24</td>\n",
       "      <td>None</td>\n",
       "      <td>NaN</td>\n",
       "      <td>NaN</td>\n",
       "      <td>3747</td>\n",
       "      <td>None</td>\n",
       "      <td>16157  FIELDING  DETROIT MI</td>\n",
       "      <td>(42.4086623, -83.24327699999999)</td>\n",
       "      <td>42.408662</td>\n",
       "      <td>-83.243277</td>\n",
       "    </tr>\n",
       "    <tr>\n",
       "      <th>1536</th>\n",
       "      <td>PMB2005-10386</td>\n",
       "      <td>5721</td>\n",
       "      <td></td>\n",
       "      <td>ST ANTOINE</td>\n",
       "      <td></td>\n",
       "      <td>Issue CofC</td>\n",
       "      <td>Issued</td>\n",
       "      <td>2021-04-28</td>\n",
       "      <td>None</td>\n",
       "      <td>NaN</td>\n",
       "      <td>NaN</td>\n",
       "      <td>1537</td>\n",
       "      <td>None</td>\n",
       "      <td>5721  ST ANTOINE  DETROIT MI</td>\n",
       "      <td>(42.3652503, -83.0608451)</td>\n",
       "      <td>42.365250</td>\n",
       "      <td>-83.060845</td>\n",
       "    </tr>\n",
       "    <tr>\n",
       "      <th>1143</th>\n",
       "      <td>PMB2005-19369</td>\n",
       "      <td>1501</td>\n",
       "      <td>E.</td>\n",
       "      <td>LARNED</td>\n",
       "      <td></td>\n",
       "      <td>Issue CofC</td>\n",
       "      <td>Issued</td>\n",
       "      <td>2021-07-23</td>\n",
       "      <td>None</td>\n",
       "      <td>NaN</td>\n",
       "      <td>NaN</td>\n",
       "      <td>1144</td>\n",
       "      <td>None</td>\n",
       "      <td>1501 E. LARNED  DETROIT MI</td>\n",
       "      <td>(42.3364205, -83.0300334)</td>\n",
       "      <td>42.336421</td>\n",
       "      <td>-83.030033</td>\n",
       "    </tr>\n",
       "    <tr>\n",
       "      <th>260</th>\n",
       "      <td>PMB2004-14249</td>\n",
       "      <td>1387</td>\n",
       "      <td></td>\n",
       "      <td>LARNED</td>\n",
       "      <td></td>\n",
       "      <td>Issue CofC</td>\n",
       "      <td>Issued</td>\n",
       "      <td>2021-05-19</td>\n",
       "      <td>None</td>\n",
       "      <td>NaN</td>\n",
       "      <td>NaN</td>\n",
       "      <td>261</td>\n",
       "      <td>None</td>\n",
       "      <td>1387  LARNED  DETROIT MI</td>\n",
       "      <td>(42.3355098, -83.03397679999999)</td>\n",
       "      <td>42.335510</td>\n",
       "      <td>-83.033977</td>\n",
       "    </tr>\n",
       "    <tr>\n",
       "      <th>5591</th>\n",
       "      <td>PMB2020-01460</td>\n",
       "      <td>18450</td>\n",
       "      <td></td>\n",
       "      <td>CHICAGO</td>\n",
       "      <td></td>\n",
       "      <td>Issue CofC</td>\n",
       "      <td>Issued</td>\n",
       "      <td>2022-05-10</td>\n",
       "      <td>None</td>\n",
       "      <td>NaN</td>\n",
       "      <td>NaN</td>\n",
       "      <td>5592</td>\n",
       "      <td>None</td>\n",
       "      <td>18450  CHICAGO  DETROIT MI</td>\n",
       "      <td>(42.3651518, -83.2212089)</td>\n",
       "      <td>42.365152</td>\n",
       "      <td>-83.221209</td>\n",
       "    </tr>\n",
       "  </tbody>\n",
       "</table>\n",
       "</div>"
      ],
      "text/plain": [
       "          record_id  street_num street_dir  street_nam street_typ        task  \\\n",
       "3746  PMB2017-04314       16157               FIELDING             Issue CofC   \n",
       "1536  PMB2005-10386        5721             ST ANTOINE             Issue CofC   \n",
       "1143  PMB2005-19369        1501         E.      LARNED             Issue CofC   \n",
       "260   PMB2004-14249        1387                 LARNED             Issue CofC   \n",
       "5591  PMB2020-01460       18450                CHICAGO             Issue CofC   \n",
       "\n",
       "      status  record_sta parcel_id  lon  lat  ObjectId geometry  \\\n",
       "3746  Issued  2019-05-24      None  NaN  NaN      3747     None   \n",
       "1536  Issued  2021-04-28      None  NaN  NaN      1537     None   \n",
       "1143  Issued  2021-07-23      None  NaN  NaN      1144     None   \n",
       "260   Issued  2021-05-19      None  NaN  NaN       261     None   \n",
       "5591  Issued  2022-05-10      None  NaN  NaN      5592     None   \n",
       "\n",
       "               address_for_geocode                           lat_lon  \\\n",
       "3746   16157  FIELDING  DETROIT MI  (42.4086623, -83.24327699999999)   \n",
       "1536  5721  ST ANTOINE  DETROIT MI         (42.3652503, -83.0608451)   \n",
       "1143    1501 E. LARNED  DETROIT MI         (42.3364205, -83.0300334)   \n",
       "260       1387  LARNED  DETROIT MI  (42.3355098, -83.03397679999999)   \n",
       "5591    18450  CHICAGO  DETROIT MI         (42.3651518, -83.2212089)   \n",
       "\n",
       "        new_lat    new_lon  \n",
       "3746  42.408662 -83.243277  \n",
       "1536  42.365250 -83.060845  \n",
       "1143  42.336421 -83.030033  \n",
       "260   42.335510 -83.033977  \n",
       "5591  42.365152 -83.221209  "
      ]
     },
     "execution_count": 15,
     "metadata": {},
     "output_type": "execute_result"
    }
   ],
   "source": [
    "compliance_gdf_nogeocode.sample(5)"
   ]
  },
  {
   "cell_type": "markdown",
   "id": "ddb761e2-d5a1-45b7-a880-9382c027a042",
   "metadata": {},
   "source": [
    "### Compliance df goal:\n",
    "- export list of non-geocoded compliance to google sheets\n",
    "- try to geocode these manually\n",
    "- if can't geocode, then add description column as to why\n",
    "- google sheet: https://docs.google.com/spreadsheets/d/1agyVFNR8gtoQabLZHSyjIecW8lv3LYlD_7BvXUEZRSM/edit#gid=0"
   ]
  },
  {
   "cell_type": "code",
   "execution_count": 16,
   "id": "fa92466c-bfae-4a10-a426-bc9751c5d3e5",
   "metadata": {},
   "outputs": [],
   "source": [
    "compliance_gdf_nogeocode.to_csv('../data/exports/compliance_gdf_nogeocode.csv')"
   ]
  },
  {
   "cell_type": "markdown",
   "id": "74a5858e-5527-4ca8-bbee-cb8363c1c0dd",
   "metadata": {},
   "source": [
    "## Occupancy DF\n",
    "- geocode missing lat/lons with google\n",
    "- notes: descriptio column has free text that we could leverage to fill in empty geometry cells"
   ]
  },
  {
   "cell_type": "code",
   "execution_count": 17,
   "id": "0635f89c-e67d-4cfc-8792-4b47ac3511d3",
   "metadata": {},
   "outputs": [],
   "source": [
    "occupancy_gdf = gpd.read_file('../data/Certificates_Of_Occupancy/Certificates_Of_Occupancy.shp')"
   ]
  },
  {
   "cell_type": "code",
   "execution_count": 18,
   "id": "43b736aa-7592-438e-aa1c-0789ae7baebf",
   "metadata": {},
   "outputs": [
    {
     "data": {
      "text/plain": [
       "0.16166666666666665"
      ]
     },
     "execution_count": 18,
     "metadata": {},
     "output_type": "execute_result"
    }
   ],
   "source": [
    "len(occupancy_gdf[occupancy_gdf['geometry'].isna()])/len(occupancy_gdf)"
   ]
  },
  {
   "cell_type": "code",
   "execution_count": 52,
   "id": "070bc74b-7799-46d3-b298-3a5152ff69d2",
   "metadata": {},
   "outputs": [
    {
     "data": {
      "text/plain": [
       "97"
      ]
     },
     "execution_count": 52,
     "metadata": {},
     "output_type": "execute_result"
    }
   ],
   "source": [
    "len(occupancy_gdf[occupancy_gdf['geometry'].isna()])"
   ]
  },
  {
   "cell_type": "code",
   "execution_count": 20,
   "id": "c288e105-152c-4ab3-852a-86e552d7533a",
   "metadata": {},
   "outputs": [],
   "source": [
    "occupancy_gdf_nogeocode = occupancy_gdf[occupancy_gdf['geometry'].isna()]"
   ]
  },
  {
   "cell_type": "code",
   "execution_count": 21,
   "id": "b9546ab6-3692-4c7c-aef5-3422b483306f",
   "metadata": {},
   "outputs": [
    {
     "name": "stderr",
     "output_type": "stream",
     "text": [
      "/Users/geoffperrin/miniconda3/lib/python3.8/site-packages/geopandas/geodataframe.py:1322: SettingWithCopyWarning: \n",
      "A value is trying to be set on a copy of a slice from a DataFrame.\n",
      "Try using .loc[row_indexer,col_indexer] = value instead\n",
      "\n",
      "See the caveats in the documentation: https://pandas.pydata.org/pandas-docs/stable/user_guide/indexing.html#returning-a-view-versus-a-copy\n",
      "  super(GeoDataFrame, self).__setitem__(key, value)\n"
     ]
    }
   ],
   "source": [
    "occupancy_gdf_nogeocode['street_nam'] = occupancy_gdf_nogeocode['street_nam'].apply(lambda x: str(x))\n",
    "occupancy_gdf_nogeocode['street_nam'] = pd.Series(occupancy_gdf_nogeocode['street_nam']).str.replace('None', '', regex=False)\n",
    "occupancy_gdf_nogeocode['street_num'] = occupancy_gdf_nogeocode['street_num'].apply(lambda x: str(x))\n",
    "occupancy_gdf_nogeocode['street_num'] = pd.Series(occupancy_gdf_nogeocode['street_num']).str.replace('None', '', regex=False)"
   ]
  },
  {
   "cell_type": "code",
   "execution_count": 22,
   "id": "acb24557-3c30-462a-92b9-7c8b494284ca",
   "metadata": {},
   "outputs": [
    {
     "name": "stderr",
     "output_type": "stream",
     "text": [
      "/Users/geoffperrin/miniconda3/lib/python3.8/site-packages/geopandas/geodataframe.py:1322: SettingWithCopyWarning: \n",
      "A value is trying to be set on a copy of a slice from a DataFrame.\n",
      "Try using .loc[row_indexer,col_indexer] = value instead\n",
      "\n",
      "See the caveats in the documentation: https://pandas.pydata.org/pandas-docs/stable/user_guide/indexing.html#returning-a-view-versus-a-copy\n",
      "  super(GeoDataFrame, self).__setitem__(key, value)\n"
     ]
    }
   ],
   "source": [
    "occupancy_gdf_nogeocode['address_for_geocode'] = occupancy_gdf_nogeocode['street_num'].astype(str) + ' ' +\\\n",
    "                                                  occupancy_gdf_nogeocode['street_nam'].astype(str) + ' ' +\\\n",
    "                                                  'DETROIT MI'"
   ]
  },
  {
   "cell_type": "code",
   "execution_count": 23,
   "id": "2f9af6d3-aabb-4765-a0cc-a36be96d8d08",
   "metadata": {},
   "outputs": [
    {
     "name": "stderr",
     "output_type": "stream",
     "text": [
      "/Users/geoffperrin/miniconda3/lib/python3.8/site-packages/geopandas/geodataframe.py:1322: SettingWithCopyWarning: \n",
      "A value is trying to be set on a copy of a slice from a DataFrame.\n",
      "Try using .loc[row_indexer,col_indexer] = value instead\n",
      "\n",
      "See the caveats in the documentation: https://pandas.pydata.org/pandas-docs/stable/user_guide/indexing.html#returning-a-view-versus-a-copy\n",
      "  super(GeoDataFrame, self).__setitem__(key, value)\n"
     ]
    }
   ],
   "source": [
    "occupancy_gdf_nogeocode['lat_lon'] = occupancy_gdf_nogeocode['address_for_geocode'].apply(lambda x: google_geocode(x))"
   ]
  },
  {
   "cell_type": "code",
   "execution_count": 24,
   "id": "07c95131-1ebe-449d-a602-cfc0b1c2cf99",
   "metadata": {},
   "outputs": [
    {
     "name": "stderr",
     "output_type": "stream",
     "text": [
      "/Users/geoffperrin/miniconda3/lib/python3.8/site-packages/geopandas/geodataframe.py:1322: SettingWithCopyWarning: \n",
      "A value is trying to be set on a copy of a slice from a DataFrame.\n",
      "Try using .loc[row_indexer,col_indexer] = value instead\n",
      "\n",
      "See the caveats in the documentation: https://pandas.pydata.org/pandas-docs/stable/user_guide/indexing.html#returning-a-view-versus-a-copy\n",
      "  super(GeoDataFrame, self).__setitem__(key, value)\n",
      "/Users/geoffperrin/miniconda3/lib/python3.8/site-packages/geopandas/geodataframe.py:1322: SettingWithCopyWarning: \n",
      "A value is trying to be set on a copy of a slice from a DataFrame.\n",
      "Try using .loc[row_indexer,col_indexer] = value instead\n",
      "\n",
      "See the caveats in the documentation: https://pandas.pydata.org/pandas-docs/stable/user_guide/indexing.html#returning-a-view-versus-a-copy\n",
      "  super(GeoDataFrame, self).__setitem__(key, value)\n"
     ]
    }
   ],
   "source": [
    "occupancy_gdf_nogeocode['new_lat'] = occupancy_gdf_nogeocode['lat_lon'].apply(return_lat)\n",
    "occupancy_gdf_nogeocode['new_lon'] = occupancy_gdf_nogeocode['lat_lon'].apply(return_lon)"
   ]
  },
  {
   "cell_type": "code",
   "execution_count": 25,
   "id": "23c55f68-af69-4664-912f-4dadce348880",
   "metadata": {},
   "outputs": [],
   "source": [
    "### export geocoded list\n",
    "occupancy_gdf_nogeocode.to_csv('../data/exports/occupancy_gdf_nogeocode.csv')"
   ]
  },
  {
   "cell_type": "markdown",
   "id": "c57c5989-8f83-4243-8664-8e5737f8c1bf",
   "metadata": {},
   "source": [
    "## Occupancy DF\n",
    "### Match occupancy number and building footprint ids\n",
    "\n",
    "\"AKA 2327 Trumbull Ave\" is an example of the free text - as in, AKA \"address\" is a common pattern, but this already exists / has been extracted into the street_num / street_nam columns - maybe those just have to be geocoded\n",
    "\n",
    "we're looking for the relationship between housing units and certificates of occupancy. That relationship is often mediated by a building id (use https://cityofdetroit.github.io/base-unit-tools/explorer?id=3263&type=buildings&streetview=true) / there's a xwalk that alice will send over\n",
    "\n",
    "deliverable should be a table that is the certificate of occupancy number (record_id) and building footprint ids - sometimes these are 1 to 1 and then sometimes multiple occupancy numbers might relate to a single id\n",
    "\n",
    "the census challenge is interested in having this as a record to when exactly a new building was technically 'habitable' - the \"birthdate\" of the property in terms of occupancy\n",
    "\n",
    "most important is to match building id to record_id - more so than geocoding\n",
    "\n",
    "### Note (7-8-22):\n",
    "- Questions for alice: \n",
    "1. What is the relationship between unit_id and occupancy_gdf? Addr_id is null for everything\n",
    "2. ... units dataset doesn't seem useful - is there a way to do this by hand?"
   ]
  },
  {
   "cell_type": "code",
   "execution_count": 26,
   "id": "575b7bb5-50d4-47f4-a7ce-f705186d37cd",
   "metadata": {},
   "outputs": [
    {
     "data": {
      "text/plain": [
       "'(AKA 3321 Cochrane) Construct (11) unit Rowhouse building and Accessory Garages per BZA (41-19) & (SLU2019-00020) per Plans.\\r\\n(Permit reviewed under BLD2019-03775)'"
      ]
     },
     "execution_count": 26,
     "metadata": {},
     "output_type": "execute_result"
    }
   ],
   "source": [
    "occupancy_gdf['descriptio'][occupancy_gdf['record_id']=='BLD2021-02415'].values[0]"
   ]
  },
  {
   "cell_type": "code",
   "execution_count": 66,
   "id": "26b1a5c2-5a17-4631-988a-6facfe929578",
   "metadata": {},
   "outputs": [
    {
     "data": {
      "text/html": [
       "<div>\n",
       "<style scoped>\n",
       "    .dataframe tbody tr th:only-of-type {\n",
       "        vertical-align: middle;\n",
       "    }\n",
       "\n",
       "    .dataframe tbody tr th {\n",
       "        vertical-align: top;\n",
       "    }\n",
       "\n",
       "    .dataframe thead th {\n",
       "        text-align: right;\n",
       "    }\n",
       "</style>\n",
       "<table border=\"1\" class=\"dataframe\">\n",
       "  <thead>\n",
       "    <tr style=\"text-align: right;\">\n",
       "      <th></th>\n",
       "      <th>record_id</th>\n",
       "      <th>street_num</th>\n",
       "      <th>street_dir</th>\n",
       "      <th>street_nam</th>\n",
       "      <th>street_typ</th>\n",
       "      <th>descriptio</th>\n",
       "      <th>status</th>\n",
       "      <th>date_statu</th>\n",
       "      <th>parcel_id</th>\n",
       "      <th>lon</th>\n",
       "      <th>lat</th>\n",
       "      <th>ObjectId</th>\n",
       "      <th>geometry</th>\n",
       "    </tr>\n",
       "  </thead>\n",
       "  <tbody>\n",
       "    <tr>\n",
       "      <th>467</th>\n",
       "      <td>BLD2021-02415</td>\n",
       "      <td>3303</td>\n",
       "      <td>None</td>\n",
       "      <td>COCHRANE</td>\n",
       "      <td>None</td>\n",
       "      <td>(AKA 3321 Cochrane) Construct (11) unit Rowhou...</td>\n",
       "      <td>CofO Issued</td>\n",
       "      <td>2021-10-11</td>\n",
       "      <td>08006537.001</td>\n",
       "      <td>-83.074239</td>\n",
       "      <td>42.339555</td>\n",
       "      <td>468</td>\n",
       "      <td>POINT (-83.07424 42.33956)</td>\n",
       "    </tr>\n",
       "  </tbody>\n",
       "</table>\n",
       "</div>"
      ],
      "text/plain": [
       "         record_id  street_num street_dir street_nam street_typ  \\\n",
       "467  BLD2021-02415        3303       None   COCHRANE       None   \n",
       "\n",
       "                                            descriptio       status  \\\n",
       "467  (AKA 3321 Cochrane) Construct (11) unit Rowhou...  CofO Issued   \n",
       "\n",
       "     date_statu     parcel_id        lon        lat  ObjectId  \\\n",
       "467  2021-10-11  08006537.001 -83.074239  42.339555       468   \n",
       "\n",
       "                       geometry  \n",
       "467  POINT (-83.07424 42.33956)  "
      ]
     },
     "execution_count": 66,
     "metadata": {},
     "output_type": "execute_result"
    }
   ],
   "source": [
    "occupancy_gdf[occupancy_gdf['record_id']=='BLD2021-02415']"
   ]
  },
  {
   "cell_type": "code",
   "execution_count": 58,
   "id": "cceba9ca-e850-42aa-9e99-2ba888cc00f6",
   "metadata": {},
   "outputs": [],
   "source": [
    "base_units_shp = gpd.read_file('../data/Units/Units.shp')"
   ]
  },
  {
   "cell_type": "code",
   "execution_count": 68,
   "id": "d3fce197-faa7-4568-9ee9-e7894ab1993c",
   "metadata": {},
   "outputs": [
    {
     "data": {
      "text/html": [
       "<div>\n",
       "<style scoped>\n",
       "    .dataframe tbody tr th:only-of-type {\n",
       "        vertical-align: middle;\n",
       "    }\n",
       "\n",
       "    .dataframe tbody tr th {\n",
       "        vertical-align: top;\n",
       "    }\n",
       "\n",
       "    .dataframe thead th {\n",
       "        text-align: right;\n",
       "    }\n",
       "</style>\n",
       "<table border=\"1\" class=\"dataframe\">\n",
       "  <thead>\n",
       "    <tr style=\"text-align: right;\">\n",
       "      <th></th>\n",
       "      <th>OBJECTID</th>\n",
       "      <th>unit_id</th>\n",
       "      <th>bldg_id</th>\n",
       "      <th>parcel_id</th>\n",
       "      <th>addr_id</th>\n",
       "      <th>unit_statu</th>\n",
       "      <th>use_</th>\n",
       "      <th>geometry</th>\n",
       "    </tr>\n",
       "  </thead>\n",
       "  <tbody>\n",
       "    <tr>\n",
       "      <th>118141</th>\n",
       "      <td>118142</td>\n",
       "      <td>119652</td>\n",
       "      <td>181562.0</td>\n",
       "      <td>None</td>\n",
       "      <td>119652</td>\n",
       "      <td>None</td>\n",
       "      <td>None</td>\n",
       "      <td>POINT (-83.27184 42.42881)</td>\n",
       "    </tr>\n",
       "    <tr>\n",
       "      <th>52929</th>\n",
       "      <td>52930</td>\n",
       "      <td>214732</td>\n",
       "      <td>2551.0</td>\n",
       "      <td>None</td>\n",
       "      <td>214732</td>\n",
       "      <td>None</td>\n",
       "      <td>None</td>\n",
       "      <td>POINT (-83.05802 42.33837)</td>\n",
       "    </tr>\n",
       "    <tr>\n",
       "      <th>16970</th>\n",
       "      <td>16971</td>\n",
       "      <td>341946</td>\n",
       "      <td>96460.0</td>\n",
       "      <td>None</td>\n",
       "      <td>341946</td>\n",
       "      <td>None</td>\n",
       "      <td>None</td>\n",
       "      <td>POINT (-83.08603 42.37703)</td>\n",
       "    </tr>\n",
       "    <tr>\n",
       "      <th>74679</th>\n",
       "      <td>74680</td>\n",
       "      <td>275792</td>\n",
       "      <td>5114.0</td>\n",
       "      <td>None</td>\n",
       "      <td>275792</td>\n",
       "      <td>None</td>\n",
       "      <td>None</td>\n",
       "      <td>POINT (-83.11264 42.41915)</td>\n",
       "    </tr>\n",
       "    <tr>\n",
       "      <th>68337</th>\n",
       "      <td>68338</td>\n",
       "      <td>28317</td>\n",
       "      <td>120550.0</td>\n",
       "      <td>None</td>\n",
       "      <td>28317</td>\n",
       "      <td>None</td>\n",
       "      <td>None</td>\n",
       "      <td>POINT (-83.12399 42.41518)</td>\n",
       "    </tr>\n",
       "  </tbody>\n",
       "</table>\n",
       "</div>"
      ],
      "text/plain": [
       "        OBJECTID  unit_id   bldg_id parcel_id  addr_id unit_statu  use_  \\\n",
       "118141    118142   119652  181562.0      None   119652       None  None   \n",
       "52929      52930   214732    2551.0      None   214732       None  None   \n",
       "16970      16971   341946   96460.0      None   341946       None  None   \n",
       "74679      74680   275792    5114.0      None   275792       None  None   \n",
       "68337      68338    28317  120550.0      None    28317       None  None   \n",
       "\n",
       "                          geometry  \n",
       "118141  POINT (-83.27184 42.42881)  \n",
       "52929   POINT (-83.05802 42.33837)  \n",
       "16970   POINT (-83.08603 42.37703)  \n",
       "74679   POINT (-83.11264 42.41915)  \n",
       "68337   POINT (-83.12399 42.41518)  "
      ]
     },
     "execution_count": 68,
     "metadata": {},
     "output_type": "execute_result"
    }
   ],
   "source": [
    "base_units_shp.sample(5)"
   ]
  },
  {
   "cell_type": "code",
   "execution_count": 60,
   "id": "f563418c-a023-4028-94d4-5dcadff45837",
   "metadata": {},
   "outputs": [
    {
     "data": {
      "text/html": [
       "<div>\n",
       "<style scoped>\n",
       "    .dataframe tbody tr th:only-of-type {\n",
       "        vertical-align: middle;\n",
       "    }\n",
       "\n",
       "    .dataframe tbody tr th {\n",
       "        vertical-align: top;\n",
       "    }\n",
       "\n",
       "    .dataframe thead th {\n",
       "        text-align: right;\n",
       "    }\n",
       "</style>\n",
       "<table border=\"1\" class=\"dataframe\">\n",
       "  <thead>\n",
       "    <tr style=\"text-align: right;\">\n",
       "      <th></th>\n",
       "      <th>OBJECTID</th>\n",
       "      <th>unit_id</th>\n",
       "      <th>bldg_id</th>\n",
       "      <th>parcel_id</th>\n",
       "      <th>addr_id</th>\n",
       "      <th>unit_statu</th>\n",
       "      <th>use_</th>\n",
       "      <th>geometry</th>\n",
       "    </tr>\n",
       "  </thead>\n",
       "  <tbody>\n",
       "  </tbody>\n",
       "</table>\n",
       "</div>"
      ],
      "text/plain": [
       "Empty GeoDataFrame\n",
       "Columns: [OBJECTID, unit_id, bldg_id, parcel_id, addr_id, unit_statu, use_, geometry]\n",
       "Index: []"
      ]
     },
     "execution_count": 67,
     "metadata": {},
     "output_type": "execute_result"
    }
   ],
   "source": [
    "base_units_shp[base_units_shp['bldg_id']==3775]"
   ]
  },
  {
   "cell_type": "code",
   "execution_count": 65,
   "id": "156fc3cb-351b-468e-b4f3-7dd8e76b6e7f",
   "metadata": {},
   "outputs": [
    {
     "data": {
      "text/plain": [
       "Series([], Name: use_, dtype: int64)"
      ]
     },
     "execution_count": 65,
     "metadata": {},
     "output_type": "execute_result"
    }
   ],
   "source": [
    "base_units_shp['use_'].value_counts()"
   ]
  },
  {
   "cell_type": "code",
   "execution_count": 27,
   "id": "90e2124f-69c3-4b7f-a117-41b0c22ab70c",
   "metadata": {},
   "outputs": [
    {
     "data": {
      "text/html": [
       "<div>\n",
       "<style scoped>\n",
       "    .dataframe tbody tr th:only-of-type {\n",
       "        vertical-align: middle;\n",
       "    }\n",
       "\n",
       "    .dataframe tbody tr th {\n",
       "        vertical-align: top;\n",
       "    }\n",
       "\n",
       "    .dataframe thead th {\n",
       "        text-align: right;\n",
       "    }\n",
       "</style>\n",
       "<table border=\"1\" class=\"dataframe\">\n",
       "  <thead>\n",
       "    <tr style=\"text-align: right;\">\n",
       "      <th></th>\n",
       "      <th>record_id</th>\n",
       "      <th>street_num</th>\n",
       "      <th>street_dir</th>\n",
       "      <th>street_nam</th>\n",
       "      <th>street_typ</th>\n",
       "      <th>descriptio</th>\n",
       "      <th>status</th>\n",
       "      <th>date_statu</th>\n",
       "      <th>parcel_id</th>\n",
       "      <th>lon</th>\n",
       "      <th>lat</th>\n",
       "      <th>ObjectId</th>\n",
       "      <th>geometry</th>\n",
       "    </tr>\n",
       "  </thead>\n",
       "  <tbody>\n",
       "    <tr>\n",
       "      <th>467</th>\n",
       "      <td>BLD2021-02415</td>\n",
       "      <td>3303</td>\n",
       "      <td>None</td>\n",
       "      <td>COCHRANE</td>\n",
       "      <td>None</td>\n",
       "      <td>(AKA 3321 Cochrane) Construct (11) unit Rowhou...</td>\n",
       "      <td>CofO Issued</td>\n",
       "      <td>2021-10-11</td>\n",
       "      <td>08006537.001</td>\n",
       "      <td>-83.074239</td>\n",
       "      <td>42.339555</td>\n",
       "      <td>468</td>\n",
       "      <td>POINT (-83.07424 42.33956)</td>\n",
       "    </tr>\n",
       "  </tbody>\n",
       "</table>\n",
       "</div>"
      ],
      "text/plain": [
       "         record_id  street_num street_dir street_nam street_typ  \\\n",
       "467  BLD2021-02415        3303       None   COCHRANE       None   \n",
       "\n",
       "                                            descriptio       status  \\\n",
       "467  (AKA 3321 Cochrane) Construct (11) unit Rowhou...  CofO Issued   \n",
       "\n",
       "     date_statu     parcel_id        lon        lat  ObjectId  \\\n",
       "467  2021-10-11  08006537.001 -83.074239  42.339555       468   \n",
       "\n",
       "                       geometry  \n",
       "467  POINT (-83.07424 42.33956)  "
      ]
     },
     "execution_count": 27,
     "metadata": {},
     "output_type": "execute_result"
    }
   ],
   "source": [
    "occupancy_gdf[occupancy_gdf['record_id']=='BLD2021-02415']"
   ]
  },
  {
   "cell_type": "code",
   "execution_count": 28,
   "id": "524a4322-7929-4bd8-8cfe-94a673db30e9",
   "metadata": {},
   "outputs": [
    {
     "data": {
      "text/plain": [
       "600"
      ]
     },
     "execution_count": 28,
     "metadata": {},
     "output_type": "execute_result"
    }
   ],
   "source": [
    "len(occupancy_gdf)"
   ]
  },
  {
   "cell_type": "code",
   "execution_count": 29,
   "id": "a0101200-344d-4dfa-ac57-52cc27a3a4f3",
   "metadata": {},
   "outputs": [],
   "source": [
    "occupancy_gdf_empty = occupancy_gdf[occupancy_gdf['geometry'].isna()]"
   ]
  },
  {
   "cell_type": "code",
   "execution_count": 53,
   "id": "a3cfcf18-cbc1-45ea-a251-7a57298a2e60",
   "metadata": {},
   "outputs": [
    {
     "data": {
      "text/plain": [
       "97"
      ]
     },
     "execution_count": 53,
     "metadata": {},
     "output_type": "execute_result"
    }
   ],
   "source": [
    "len(occupancy_gdf_empty)"
   ]
  },
  {
   "cell_type": "code",
   "execution_count": 54,
   "id": "829a4516-3d3c-49db-8b72-e2663bae61c2",
   "metadata": {},
   "outputs": [
    {
     "data": {
      "text/html": [
       "<div>\n",
       "<style scoped>\n",
       "    .dataframe tbody tr th:only-of-type {\n",
       "        vertical-align: middle;\n",
       "    }\n",
       "\n",
       "    .dataframe tbody tr th {\n",
       "        vertical-align: top;\n",
       "    }\n",
       "\n",
       "    .dataframe thead th {\n",
       "        text-align: right;\n",
       "    }\n",
       "</style>\n",
       "<table border=\"1\" class=\"dataframe\">\n",
       "  <thead>\n",
       "    <tr style=\"text-align: right;\">\n",
       "      <th></th>\n",
       "      <th>record_id</th>\n",
       "      <th>street_num</th>\n",
       "      <th>street_dir</th>\n",
       "      <th>street_nam</th>\n",
       "      <th>street_typ</th>\n",
       "      <th>descriptio</th>\n",
       "      <th>status</th>\n",
       "      <th>date_statu</th>\n",
       "      <th>parcel_id</th>\n",
       "      <th>lon</th>\n",
       "      <th>lat</th>\n",
       "      <th>ObjectId</th>\n",
       "      <th>geometry</th>\n",
       "    </tr>\n",
       "  </thead>\n",
       "  <tbody>\n",
       "    <tr>\n",
       "      <th>341</th>\n",
       "      <td>BLD2018-05358</td>\n",
       "      <td>2860</td>\n",
       "      <td>None</td>\n",
       "      <td>JOHN R</td>\n",
       "      <td>None</td>\n",
       "      <td>(AKA UNIT 75) ERECT A 3 STORY, 11 UNIT CARRIAG...</td>\n",
       "      <td>CofO Issued</td>\n",
       "      <td>2021-09-20</td>\n",
       "      <td>None</td>\n",
       "      <td>NaN</td>\n",
       "      <td>NaN</td>\n",
       "      <td>342</td>\n",
       "      <td>None</td>\n",
       "    </tr>\n",
       "    <tr>\n",
       "      <th>558</th>\n",
       "      <td>BLD2018-05354</td>\n",
       "      <td>2852</td>\n",
       "      <td>None</td>\n",
       "      <td>JOHN R</td>\n",
       "      <td>None</td>\n",
       "      <td>(AKA UNIT 79) ERECT A  3 STORY, 11 UNIT CARRIA...</td>\n",
       "      <td>CofO Issued</td>\n",
       "      <td>2021-10-07</td>\n",
       "      <td>None</td>\n",
       "      <td>NaN</td>\n",
       "      <td>NaN</td>\n",
       "      <td>559</td>\n",
       "      <td>None</td>\n",
       "    </tr>\n",
       "    <tr>\n",
       "      <th>547</th>\n",
       "      <td>BLD2019-04970</td>\n",
       "      <td>2301</td>\n",
       "      <td>None</td>\n",
       "      <td>Trumbull</td>\n",
       "      <td>None</td>\n",
       "      <td>AKA 2301 Trumbull Ave. Unit 14. Per BZA #4-18,...</td>\n",
       "      <td>CofO Issued</td>\n",
       "      <td>2020-09-24</td>\n",
       "      <td>None</td>\n",
       "      <td>NaN</td>\n",
       "      <td>NaN</td>\n",
       "      <td>548</td>\n",
       "      <td>None</td>\n",
       "    </tr>\n",
       "    <tr>\n",
       "      <th>64</th>\n",
       "      <td>BLD2018-05776</td>\n",
       "      <td>2812</td>\n",
       "      <td>None</td>\n",
       "      <td>JOHN R</td>\n",
       "      <td>None</td>\n",
       "      <td>(AKA UNIT 51) ERECT A 3 UNIT, 4 STORY TOWNHOUS...</td>\n",
       "      <td>CofO Issued</td>\n",
       "      <td>2021-10-29</td>\n",
       "      <td>None</td>\n",
       "      <td>NaN</td>\n",
       "      <td>NaN</td>\n",
       "      <td>65</td>\n",
       "      <td>None</td>\n",
       "    </tr>\n",
       "    <tr>\n",
       "      <th>539</th>\n",
       "      <td>BLD2020-05103</td>\n",
       "      <td>3500</td>\n",
       "      <td>None</td>\n",
       "      <td>ORLEANS</td>\n",
       "      <td>None</td>\n",
       "      <td>Revision to BLD2018-10767 to reflect Electrica...</td>\n",
       "      <td>CofO Issued</td>\n",
       "      <td>2021-07-29</td>\n",
       "      <td>None</td>\n",
       "      <td>NaN</td>\n",
       "      <td>NaN</td>\n",
       "      <td>540</td>\n",
       "      <td>None</td>\n",
       "    </tr>\n",
       "  </tbody>\n",
       "</table>\n",
       "</div>"
      ],
      "text/plain": [
       "         record_id  street_num street_dir street_nam street_typ  \\\n",
       "341  BLD2018-05358        2860       None     JOHN R       None   \n",
       "558  BLD2018-05354        2852       None     JOHN R       None   \n",
       "547  BLD2019-04970        2301       None   Trumbull       None   \n",
       "64   BLD2018-05776        2812       None     JOHN R       None   \n",
       "539  BLD2020-05103        3500       None    ORLEANS       None   \n",
       "\n",
       "                                            descriptio       status  \\\n",
       "341  (AKA UNIT 75) ERECT A 3 STORY, 11 UNIT CARRIAG...  CofO Issued   \n",
       "558  (AKA UNIT 79) ERECT A  3 STORY, 11 UNIT CARRIA...  CofO Issued   \n",
       "547  AKA 2301 Trumbull Ave. Unit 14. Per BZA #4-18,...  CofO Issued   \n",
       "64   (AKA UNIT 51) ERECT A 3 UNIT, 4 STORY TOWNHOUS...  CofO Issued   \n",
       "539  Revision to BLD2018-10767 to reflect Electrica...  CofO Issued   \n",
       "\n",
       "     date_statu parcel_id  lon  lat  ObjectId geometry  \n",
       "341  2021-09-20      None  NaN  NaN       342     None  \n",
       "558  2021-10-07      None  NaN  NaN       559     None  \n",
       "547  2020-09-24      None  NaN  NaN       548     None  \n",
       "64   2021-10-29      None  NaN  NaN        65     None  \n",
       "539  2021-07-29      None  NaN  NaN       540     None  "
      ]
     },
     "execution_count": 54,
     "metadata": {},
     "output_type": "execute_result"
    }
   ],
   "source": [
    "occupancy_gdf_empty.sample(5)"
   ]
  },
  {
   "cell_type": "code",
   "execution_count": 30,
   "id": "056aad34-06df-428b-ae42-60f398a04e1b",
   "metadata": {},
   "outputs": [
    {
     "data": {
      "text/html": [
       "<div>\n",
       "<style scoped>\n",
       "    .dataframe tbody tr th:only-of-type {\n",
       "        vertical-align: middle;\n",
       "    }\n",
       "\n",
       "    .dataframe tbody tr th {\n",
       "        vertical-align: top;\n",
       "    }\n",
       "\n",
       "    .dataframe thead th {\n",
       "        text-align: right;\n",
       "    }\n",
       "</style>\n",
       "<table border=\"1\" class=\"dataframe\">\n",
       "  <thead>\n",
       "    <tr style=\"text-align: right;\">\n",
       "      <th></th>\n",
       "      <th>record_id</th>\n",
       "      <th>street_num</th>\n",
       "      <th>street_dir</th>\n",
       "      <th>street_nam</th>\n",
       "      <th>street_typ</th>\n",
       "      <th>descriptio</th>\n",
       "      <th>status</th>\n",
       "      <th>date_statu</th>\n",
       "      <th>parcel_id</th>\n",
       "      <th>lon</th>\n",
       "      <th>lat</th>\n",
       "      <th>ObjectId</th>\n",
       "      <th>geometry</th>\n",
       "    </tr>\n",
       "  </thead>\n",
       "  <tbody>\n",
       "    <tr>\n",
       "      <th>84</th>\n",
       "      <td>BLD2019-00680</td>\n",
       "      <td>2809</td>\n",
       "      <td>None</td>\n",
       "      <td>Brush</td>\n",
       "      <td>None</td>\n",
       "      <td>Erect  4 story , 8 unit townhomes as per eplan...</td>\n",
       "      <td>CofO Issued</td>\n",
       "      <td>2021-04-05</td>\n",
       "      <td>None</td>\n",
       "      <td>NaN</td>\n",
       "      <td>NaN</td>\n",
       "      <td>85</td>\n",
       "      <td>None</td>\n",
       "    </tr>\n",
       "  </tbody>\n",
       "</table>\n",
       "</div>"
      ],
      "text/plain": [
       "        record_id  street_num street_dir street_nam street_typ  \\\n",
       "84  BLD2019-00680        2809       None      Brush       None   \n",
       "\n",
       "                                           descriptio       status  \\\n",
       "84  Erect  4 story , 8 unit townhomes as per eplan...  CofO Issued   \n",
       "\n",
       "    date_statu parcel_id  lon  lat  ObjectId geometry  \n",
       "84  2021-04-05      None  NaN  NaN        85     None  "
      ]
     },
     "execution_count": 30,
     "metadata": {},
     "output_type": "execute_result"
    }
   ],
   "source": [
    "occupancy_gdf_empty[occupancy_gdf_empty['record_id']=='BLD2019-00680']"
   ]
  },
  {
   "cell_type": "code",
   "execution_count": 31,
   "id": "b9299daf-0212-4dad-b7e1-72a60291d26a",
   "metadata": {},
   "outputs": [
    {
     "data": {
      "text/plain": [
       "array(['Erect  4 story , 8 unit townhomes as per eplans w/ a certificate of appropriateness'],\n",
       "      dtype=object)"
      ]
     },
     "execution_count": 31,
     "metadata": {},
     "output_type": "execute_result"
    }
   ],
   "source": [
    "occupancy_gdf_empty['descriptio'][occupancy_gdf_empty['record_id']=='BLD2019-00680'].values"
   ]
  },
  {
   "cell_type": "code",
   "execution_count": 32,
   "id": "c8222669-4092-4829-abc0-a2c6c21c0cbe",
   "metadata": {},
   "outputs": [
    {
     "data": {
      "text/plain": [
       "array(['Modify previous Change of Use Permit to Provisioning Center by adding grow facility; changes to the restroom facilities.'],\n",
       "      dtype=object)"
      ]
     },
     "execution_count": 32,
     "metadata": {},
     "output_type": "execute_result"
    }
   ],
   "source": [
    "occupancy_gdf_empty['descriptio'][occupancy_gdf_empty['record_id']=='BLD2020-01564'].values"
   ]
  },
  {
   "cell_type": "code",
   "execution_count": 33,
   "id": "2c332f0a-f284-42e4-929a-2ecb0c7394c2",
   "metadata": {},
   "outputs": [
    {
     "data": {
      "text/plain": [
       "array(['INTERIOR ALTERATIONS TO ESTABLISH USE FOR TENANT SPACE AS COSMETIC RETAIL\\nPERMANENT CERTIFICATE OF OCCUPANCY ISSUED (03-20-2019)'],\n",
       "      dtype=object)"
      ]
     },
     "execution_count": 33,
     "metadata": {},
     "output_type": "execute_result"
    }
   ],
   "source": [
    "occupancy_gdf_empty['descriptio'][occupancy_gdf_empty['record_id']=='BLD2019-00033'].values"
   ]
  },
  {
   "cell_type": "code",
   "execution_count": 34,
   "id": "2fd78960-e1f7-4359-adc0-6b8ad072f80c",
   "metadata": {},
   "outputs": [
    {
     "data": {
      "text/plain": [
       "'Interior alterations per plans.(1500 E. Woodbridge Suite address per plans, Separate Tenant Build-Out Permit required to establish Occupancy). Subject to all Applicable Federal, State, and Local Executive Orders.\\r\\n(AKA 1583 Franklin)'"
      ]
     },
     "execution_count": 34,
     "metadata": {},
     "output_type": "execute_result"
    }
   ],
   "source": [
    "occupancy_gdf_empty['descriptio'][occupancy_gdf_empty['record_id']=='BLD2020-04413'].values[0]"
   ]
  },
  {
   "cell_type": "markdown",
   "id": "31d2bf3e-f032-4412-8e2a-6551be1631ce",
   "metadata": {},
   "source": [
    "- note: this building is at the corner of e. woodbridge and franklin (hence the aka 1583 franklin)"
   ]
  },
  {
   "cell_type": "code",
   "execution_count": 35,
   "id": "a9d7183e-2e56-41d9-bcbe-c45594356676",
   "metadata": {},
   "outputs": [
    {
     "data": {
      "text/html": [
       "<div>\n",
       "<style scoped>\n",
       "    .dataframe tbody tr th:only-of-type {\n",
       "        vertical-align: middle;\n",
       "    }\n",
       "\n",
       "    .dataframe tbody tr th {\n",
       "        vertical-align: top;\n",
       "    }\n",
       "\n",
       "    .dataframe thead th {\n",
       "        text-align: right;\n",
       "    }\n",
       "</style>\n",
       "<table border=\"1\" class=\"dataframe\">\n",
       "  <thead>\n",
       "    <tr style=\"text-align: right;\">\n",
       "      <th></th>\n",
       "      <th>record_id</th>\n",
       "      <th>street_num</th>\n",
       "      <th>street_dir</th>\n",
       "      <th>street_nam</th>\n",
       "      <th>street_typ</th>\n",
       "      <th>descriptio</th>\n",
       "      <th>status</th>\n",
       "      <th>date_statu</th>\n",
       "      <th>parcel_id</th>\n",
       "      <th>lon</th>\n",
       "      <th>lat</th>\n",
       "      <th>ObjectId</th>\n",
       "      <th>geometry</th>\n",
       "    </tr>\n",
       "  </thead>\n",
       "  <tbody>\n",
       "    <tr>\n",
       "      <th>393</th>\n",
       "      <td>BLD2020-04413</td>\n",
       "      <td>1522</td>\n",
       "      <td>None</td>\n",
       "      <td>WOODBRIDGE</td>\n",
       "      <td>None</td>\n",
       "      <td>Interior alterations per plans.(1500 E. Woodbr...</td>\n",
       "      <td>CofO Issued</td>\n",
       "      <td>2021-04-12</td>\n",
       "      <td>None</td>\n",
       "      <td>NaN</td>\n",
       "      <td>NaN</td>\n",
       "      <td>394</td>\n",
       "      <td>None</td>\n",
       "    </tr>\n",
       "  </tbody>\n",
       "</table>\n",
       "</div>"
      ],
      "text/plain": [
       "         record_id  street_num street_dir  street_nam street_typ  \\\n",
       "393  BLD2020-04413        1522       None  WOODBRIDGE       None   \n",
       "\n",
       "                                            descriptio       status  \\\n",
       "393  Interior alterations per plans.(1500 E. Woodbr...  CofO Issued   \n",
       "\n",
       "     date_statu parcel_id  lon  lat  ObjectId geometry  \n",
       "393  2021-04-12      None  NaN  NaN       394     None  "
      ]
     },
     "execution_count": 35,
     "metadata": {},
     "output_type": "execute_result"
    }
   ],
   "source": [
    "occupancy_gdf_empty[occupancy_gdf_empty['record_id']=='BLD2020-04413']"
   ]
  },
  {
   "cell_type": "code",
   "execution_count": 36,
   "id": "54c043a8-740c-404b-b610-d8873ad9fced",
   "metadata": {},
   "outputs": [
    {
     "data": {
      "text/plain": [
       "array([\"AKA 2327 Trumbull Ave. Unit 20. Per BZA #4-18, Construct 34' L X 21' W X 37' H Townhouse per plans.\"],\n",
       "      dtype=object)"
      ]
     },
     "execution_count": 36,
     "metadata": {},
     "output_type": "execute_result"
    }
   ],
   "source": [
    "occupancy_gdf_empty['descriptio'][occupancy_gdf_empty['record_id']=='BLD2019-04976'].values"
   ]
  },
  {
   "cell_type": "code",
   "execution_count": 37,
   "id": "2bd93f7e-5258-40e7-99c5-d0f4bb5d7593",
   "metadata": {},
   "outputs": [
    {
     "data": {
      "text/plain": [
       "array(['AKA 8032, 8040, 8046, 8056 MEMORIAL. ERECTION OF ONE 4 UNIT ONE STORY WOOD FRAMED TOWNHOUSE AS PER PLANS. SEE BLD2017-00831 FOR MASTER SET OF PLANS.'],\n",
       "      dtype=object)"
      ]
     },
     "execution_count": 37,
     "metadata": {},
     "output_type": "execute_result"
    }
   ],
   "source": [
    "occupancy_gdf_empty['descriptio'][occupancy_gdf_empty['record_id']=='BLD2017-06240'].values"
   ]
  }
 ],
 "metadata": {
  "kernelspec": {
   "display_name": "Python 3",
   "language": "python",
   "name": "python3"
  },
  "language_info": {
   "codemirror_mode": {
    "name": "ipython",
    "version": 3
   },
   "file_extension": ".py",
   "mimetype": "text/x-python",
   "name": "python",
   "nbconvert_exporter": "python",
   "pygments_lexer": "ipython3",
   "version": "3.8.11"
  }
 },
 "nbformat": 4,
 "nbformat_minor": 5
}
