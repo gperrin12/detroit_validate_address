{
 "cells": [
  {
   "cell_type": "markdown",
   "id": "65b47713-0657-4b01-bef5-246e75fce435",
   "metadata": {},
   "source": [
    "## Project 5\n",
    "- created 5-16-22 by GTP\n",
    "- https://docs.google.com/document/d/1LIJTlCsx54zIG5sOX3heSj00YqdzhZ9c/edit\n",
    "- *Description*: BSEED has entered a lot of data into free text fields within Accela. Would be useful to find ways to scrape and organize this data so it is useable. Unit data and Certificates of Occupancy are some of our biggest gaps. This might be a way to use administrative data to version and validate 2020 data.\n",
    "- Technical Skill Level: Medium-High. Skilled at applying Regex to text strings using SQL and/or Python. Experience working with geospatial data, in ArcGIS or otherwise.\n",
    "- Scope: There are 595 records in the Certificates of Occupancy dataset and 5,930 records in the Certificates of Compliance dataset. Depending on skill level, this could take 6-8 weeks.\n",
    "- Inputs: Certificates of Compliance, Certificates of Occupancy, Rental Registration data\n",
    "- General Process:\n",
    "- Use GIS or Base Units Explorer tool to link Certificates of Occupancy to specific building ids, to create timestamps for when a building was ready for occupants.\n",
    "- Geocode the addresses in the Certificate of Compliance and Rental Registration datasets and note any addresses that can’t be matched through a manual rematching process and may be missing altogether from the database.\n"
   ]
  },
  {
   "cell_type": "code",
   "execution_count": 1,
   "id": "1c7c41b3-8ce2-4619-a91a-f926300413fd",
   "metadata": {},
   "outputs": [],
   "source": [
    "#import data libraries\n",
    "import pandas as pd\n",
    "import numpy as np\n",
    "import matplotlib.pyplot as plt\n",
    "import seaborn as sns\n",
    "import math\n",
    "import numbers\n",
    "import decimal\n",
    "#import data science packages\n",
    "import scipy\n",
    "import scipy.stats as stats\n",
    "\n",
    "np.random.seed(222)\n",
    "%matplotlib inline"
   ]
  },
  {
   "cell_type": "code",
   "execution_count": 13,
   "id": "3b4e94bb-25f8-484e-806d-8826041b9a58",
   "metadata": {},
   "outputs": [],
   "source": [
    "#import geographic analysis libraries\n",
    "import geopandas as gpd\n",
    "from geopandas import GeoDataFrame\n",
    "import shapely as shp\n",
    "from shapely.geometry import Point\n",
    "from shapely.geometry import shape\n",
    "import os\n",
    "import re\n",
    "from fiona.crs import from_epsg\n",
    "import pysal as ps\n",
    "import re\n",
    "from googlemaps import Client as GoogleMaps\n",
    "import googlemaps\n",
    "import gmaps"
   ]
  },
  {
   "cell_type": "code",
   "execution_count": 15,
   "id": "4df10b44-9446-4413-bc5c-0a69467d4e6c",
   "metadata": {},
   "outputs": [],
   "source": [
    "# This is where we will need the API key\n",
    "gmaps = googlemaps.Client(key=os.environ['GOOGLE_GEOCODER_API'])"
   ]
  },
  {
   "cell_type": "code",
   "execution_count": 6,
   "id": "da1dcf4d-71a5-49bb-805e-516ff2abd42f",
   "metadata": {},
   "outputs": [],
   "source": [
    "#set crs for entire analysis\n",
    "crs = {'init': 'epsg:4326'}"
   ]
  },
  {
   "cell_type": "markdown",
   "id": "1d6ad141-8fbd-4b92-93f2-c941f6cb4ab9",
   "metadata": {},
   "source": [
    "### data sources\n",
    "\n",
    "Certificates of Occupancy: https://data.detroitmi.gov/datasets/certificates-of-occupancy-1/explore\n",
    "- BSEED says that new building (or a rehabbed / renovated building) has satisfied their requirements for habitation, and people can move in / it is ready for occupancy\n",
    "- note: alice says that this can be issued for individual floors \n",
    "- _goal_: deliverable should be a table that is the certificate of occupancy number (record_id) and building footprint ids - sometimes these are 1 to 1 and then sometimes multiple occupancy numbers might relate to a single id\n",
    "- the census challenge is interested in having this as a record to when exactly a new building was technically 'habitable' - the \"birthdate\" of the property in terms of occupancy\n",
    "\n",
    "Certificates of Compliance: https://data.detroitmi.gov/datasets/certificates-of-compliance-1/explore\n",
    "- this is for properties to be certified as 'compliant' by the city\n",
    "- Alice has access to the dataset of compliance that has 'description' - which should contain additional details..?\n",
    "- I think this will be more trying to geocode the ones that don't have lat/lon\n",
    "- _goal_: there's 33 that didn't geocode - goal is to geocode these and then give description if couldn't geocode\n",
    "\n",
    "Rental Registrations: https://data.detroitmi.gov/datasets/rental-statuses-1/explore\n",
    "- (6-1-22): I'll address this next week with Alice on our next call\n",
    "\n",
    "Base Units: https://base-units-detroitmi.hub.arcgis.com/datasets/detroitmi::units-1/about\n",
    "- jimmy mcbroom put this together\n",
    "\n",
    "https://cityofdetroit.github.io/base-unit-tools/explorer"
   ]
  },
  {
   "cell_type": "code",
   "execution_count": 7,
   "id": "0f5b3da4-31ee-4775-a454-71df0985ad8a",
   "metadata": {},
   "outputs": [],
   "source": [
    "compliance_gdf = gpd.read_file('../data/Certificates_Of_Compliance/Certificates_Of_Compliance.shp')"
   ]
  },
  {
   "cell_type": "code",
   "execution_count": 8,
   "id": "2b668344-c79e-4ca3-b244-cd689fe721a2",
   "metadata": {},
   "outputs": [
    {
     "data": {
      "text/plain": [
       "6071"
      ]
     },
     "execution_count": 8,
     "metadata": {},
     "output_type": "execute_result"
    }
   ],
   "source": [
    "len(compliance_gdf)"
   ]
  },
  {
   "cell_type": "code",
   "execution_count": 9,
   "id": "e0a59b58-2ef7-467b-aec2-cbf1904ac6d1",
   "metadata": {},
   "outputs": [
    {
     "data": {
      "text/plain": [
       "33"
      ]
     },
     "execution_count": 9,
     "metadata": {},
     "output_type": "execute_result"
    }
   ],
   "source": [
    "len(compliance_gdf[compliance_gdf['geometry'].isna()])"
   ]
  },
  {
   "cell_type": "code",
   "execution_count": 10,
   "id": "55e41535-aaad-4786-a9b2-b7e914a59818",
   "metadata": {},
   "outputs": [],
   "source": [
    "compliance_gdf_nogeocode = compliance_gdf[compliance_gdf['geometry'].isna()]"
   ]
  },
  {
   "cell_type": "code",
   "execution_count": 30,
   "id": "606d808d-8d20-40d6-9a26-33afda952428",
   "metadata": {},
   "outputs": [
    {
     "name": "stderr",
     "output_type": "stream",
     "text": [
      "/Users/geoffperrin/miniconda3/lib/python3.8/site-packages/geopandas/geodataframe.py:1322: SettingWithCopyWarning: \n",
      "A value is trying to be set on a copy of a slice from a DataFrame.\n",
      "Try using .loc[row_indexer,col_indexer] = value instead\n",
      "\n",
      "See the caveats in the documentation: https://pandas.pydata.org/pandas-docs/stable/user_guide/indexing.html#returning-a-view-versus-a-copy\n",
      "  super(GeoDataFrame, self).__setitem__(key, value)\n"
     ]
    }
   ],
   "source": [
    "compliance_gdf_nogeocode['street_dir'] = compliance_gdf_nogeocode['street_dir'].apply(lambda x: str(x))\n",
    "compliance_gdf_nogeocode['street_dir'] = pd.Series(compliance_gdf_nogeocode['street_dir']).str.replace('None', '', regex=False)\n",
    "compliance_gdf_nogeocode['street_typ'] = compliance_gdf_nogeocode['street_typ'].apply(lambda x: str(x))\n",
    "compliance_gdf_nogeocode['street_typ'] = pd.Series(compliance_gdf_nogeocode['street_typ']).str.replace('None', '', regex=False)"
   ]
  },
  {
   "cell_type": "code",
   "execution_count": 31,
   "id": "cd451e2f-a3c0-434a-a1bb-9ce5ce6b68ec",
   "metadata": {},
   "outputs": [],
   "source": [
    "compliance_gdf_nogeocode['address_for_geocode'] = compliance_gdf_nogeocode['street_num'].astype(str) + ' ' +\\\n",
    "                                                  compliance_gdf_nogeocode['street_dir'].astype(str) + ' ' +\\\n",
    "                                                  compliance_gdf_nogeocode['street_nam'].astype(str) + ' ' +\\\n",
    "                                                  compliance_gdf_nogeocode['street_typ'].astype(str) + ' ' +\\\n",
    "                                                  'DETROIT MI'"
   ]
  },
  {
   "cell_type": "code",
   "execution_count": 36,
   "id": "60c1857e-5936-4fc6-9112-9e0035253e8e",
   "metadata": {},
   "outputs": [],
   "source": [
    "def google_geocode(address_to_geocode):\n",
    "    geocode_result = gmaps.geocode(address_to_geocode)\n",
    "    lat = geocode_result[0]['geometry']['location']['lat']\n",
    "    lon = geocode_result[0]['geometry']['location']['lon']\n",
    "    return (lat, lon)"
   ]
  },
  {
   "cell_type": "code",
   "execution_count": null,
   "id": "8c1cff0f-0bcf-4276-a9f7-954711a749d8",
   "metadata": {},
   "outputs": [],
   "source": [
    "def return_lat(lat_lon):\n",
    "    return lat_lon[0]\n",
    "\n",
    "def return_lon(lat_lon):\n",
    "    return lat_lon[1]"
   ]
  },
  {
   "cell_type": "code",
   "execution_count": null,
   "id": "955e12c5-be28-4027-98c6-131c3e60dace",
   "metadata": {},
   "outputs": [],
   "source": [
    "compliance_gdf_nogeocode['lat_lon'] = compliance_gdf_nogeocode['address_for_geocode'].apply(compliance_gdf_nogeocode)\n",
    "compliance_gdf_nogeocode['new_lat'] = compliance_gdf_nogeocode['lat_lon'].apply(return_lat)\n",
    "compliance_gdf_nogeocode['new_lon'] = compliance_gdf_nogeocode['lat_lon'].apply(return_lon)"
   ]
  },
  {
   "cell_type": "markdown",
   "id": "c838da6a-be71-4892-a63f-35650deeacd3",
   "metadata": {},
   "source": [
    "### Note: need to set up google geocoder billing account\n",
    "- link: https://console.cloud.google.com/billing\n",
    "- because i'm currently in gdl, mx, was denied right now. trying to figure out how to get unblocked, waiting for google's 'security review'"
   ]
  },
  {
   "cell_type": "code",
   "execution_count": 37,
   "id": "6939f04f-8682-4af3-b8db-9c8fdaa365f4",
   "metadata": {},
   "outputs": [
    {
     "ename": "ApiError",
     "evalue": "REQUEST_DENIED (You must enable Billing on the Google Cloud Project at https://console.cloud.google.com/project/_/billing/enable Learn more at https://developers.google.com/maps/gmp-get-started)",
     "output_type": "error",
     "traceback": [
      "\u001b[0;31m---------------------------------------------------------------------------\u001b[0m",
      "\u001b[0;31mApiError\u001b[0m                                  Traceback (most recent call last)",
      "Input \u001b[0;32mIn [37]\u001b[0m, in \u001b[0;36m<cell line: 1>\u001b[0;34m()\u001b[0m\n\u001b[0;32m----> 1\u001b[0m \u001b[43mgoogle_geocode\u001b[49m\u001b[43m(\u001b[49m\u001b[38;5;124;43m'\u001b[39;49m\u001b[38;5;124;43m16157 FIELDING DETROIT MI\u001b[39;49m\u001b[38;5;124;43m'\u001b[39;49m\u001b[43m)\u001b[49m\n",
      "Input \u001b[0;32mIn [36]\u001b[0m, in \u001b[0;36mgoogle_geocode\u001b[0;34m(address_to_geocode)\u001b[0m\n\u001b[1;32m      1\u001b[0m \u001b[38;5;28;01mdef\u001b[39;00m \u001b[38;5;21mgoogle_geocode\u001b[39m(address_to_geocode):\n\u001b[0;32m----> 2\u001b[0m     geocode_result \u001b[38;5;241m=\u001b[39m \u001b[43mgmaps\u001b[49m\u001b[38;5;241;43m.\u001b[39;49m\u001b[43mgeocode\u001b[49m\u001b[43m(\u001b[49m\u001b[43maddress_to_geocode\u001b[49m\u001b[43m)\u001b[49m\n\u001b[1;32m      3\u001b[0m     lat \u001b[38;5;241m=\u001b[39m geocode_result[\u001b[38;5;241m0\u001b[39m][\u001b[38;5;124m'\u001b[39m\u001b[38;5;124mgeometry\u001b[39m\u001b[38;5;124m'\u001b[39m][\u001b[38;5;124m'\u001b[39m\u001b[38;5;124mlocation\u001b[39m\u001b[38;5;124m'\u001b[39m][\u001b[38;5;124m'\u001b[39m\u001b[38;5;124mlat\u001b[39m\u001b[38;5;124m'\u001b[39m]\n\u001b[1;32m      4\u001b[0m     lon \u001b[38;5;241m=\u001b[39m geocode_result[\u001b[38;5;241m0\u001b[39m][\u001b[38;5;124m'\u001b[39m\u001b[38;5;124mgeometry\u001b[39m\u001b[38;5;124m'\u001b[39m][\u001b[38;5;124m'\u001b[39m\u001b[38;5;124mlocation\u001b[39m\u001b[38;5;124m'\u001b[39m][\u001b[38;5;124m'\u001b[39m\u001b[38;5;124mlon\u001b[39m\u001b[38;5;124m'\u001b[39m]\n",
      "File \u001b[0;32m~/miniconda3/lib/python3.8/site-packages/googlemaps/client.py:420\u001b[0m, in \u001b[0;36mmake_api_method.<locals>.wrapper\u001b[0;34m(*args, **kwargs)\u001b[0m\n\u001b[1;32m    417\u001b[0m \u001b[38;5;129m@functools\u001b[39m\u001b[38;5;241m.\u001b[39mwraps(func)\n\u001b[1;32m    418\u001b[0m \u001b[38;5;28;01mdef\u001b[39;00m \u001b[38;5;21mwrapper\u001b[39m(\u001b[38;5;241m*\u001b[39margs, \u001b[38;5;241m*\u001b[39m\u001b[38;5;241m*\u001b[39mkwargs):\n\u001b[1;32m    419\u001b[0m     args[\u001b[38;5;241m0\u001b[39m]\u001b[38;5;241m.\u001b[39m_extra_params \u001b[38;5;241m=\u001b[39m kwargs\u001b[38;5;241m.\u001b[39mpop(\u001b[38;5;124m\"\u001b[39m\u001b[38;5;124mextra_params\u001b[39m\u001b[38;5;124m\"\u001b[39m, \u001b[38;5;28;01mNone\u001b[39;00m)\n\u001b[0;32m--> 420\u001b[0m     result \u001b[38;5;241m=\u001b[39m \u001b[43mfunc\u001b[49m\u001b[43m(\u001b[49m\u001b[38;5;241;43m*\u001b[39;49m\u001b[43margs\u001b[49m\u001b[43m,\u001b[49m\u001b[43m \u001b[49m\u001b[38;5;241;43m*\u001b[39;49m\u001b[38;5;241;43m*\u001b[39;49m\u001b[43mkwargs\u001b[49m\u001b[43m)\u001b[49m\n\u001b[1;32m    421\u001b[0m     \u001b[38;5;28;01mtry\u001b[39;00m:\n\u001b[1;32m    422\u001b[0m         \u001b[38;5;28;01mdel\u001b[39;00m args[\u001b[38;5;241m0\u001b[39m]\u001b[38;5;241m.\u001b[39m_extra_params\n",
      "File \u001b[0;32m~/miniconda3/lib/python3.8/site-packages/googlemaps/geocoding.py:75\u001b[0m, in \u001b[0;36mgeocode\u001b[0;34m(client, address, place_id, components, bounds, region, language)\u001b[0m\n\u001b[1;32m     72\u001b[0m \u001b[38;5;28;01mif\u001b[39;00m language:\n\u001b[1;32m     73\u001b[0m     params[\u001b[38;5;124m\"\u001b[39m\u001b[38;5;124mlanguage\u001b[39m\u001b[38;5;124m\"\u001b[39m] \u001b[38;5;241m=\u001b[39m language\n\u001b[0;32m---> 75\u001b[0m \u001b[38;5;28;01mreturn\u001b[39;00m \u001b[43mclient\u001b[49m\u001b[38;5;241;43m.\u001b[39;49m\u001b[43m_request\u001b[49m\u001b[43m(\u001b[49m\u001b[38;5;124;43m\"\u001b[39;49m\u001b[38;5;124;43m/maps/api/geocode/json\u001b[39;49m\u001b[38;5;124;43m\"\u001b[39;49m\u001b[43m,\u001b[49m\u001b[43m \u001b[49m\u001b[43mparams\u001b[49m\u001b[43m)\u001b[49m\u001b[38;5;241m.\u001b[39mget(\u001b[38;5;124m\"\u001b[39m\u001b[38;5;124mresults\u001b[39m\u001b[38;5;124m\"\u001b[39m, [])\n",
      "File \u001b[0;32m~/miniconda3/lib/python3.8/site-packages/googlemaps/client.py:315\u001b[0m, in \u001b[0;36mClient._request\u001b[0;34m(self, url, params, first_request_time, retry_counter, base_url, accepts_clientid, extract_body, requests_kwargs, post_json)\u001b[0m\n\u001b[1;32m    313\u001b[0m     result \u001b[38;5;241m=\u001b[39m extract_body(response)\n\u001b[1;32m    314\u001b[0m \u001b[38;5;28;01melse\u001b[39;00m:\n\u001b[0;32m--> 315\u001b[0m     result \u001b[38;5;241m=\u001b[39m \u001b[38;5;28;43mself\u001b[39;49m\u001b[38;5;241;43m.\u001b[39;49m\u001b[43m_get_body\u001b[49m\u001b[43m(\u001b[49m\u001b[43mresponse\u001b[49m\u001b[43m)\u001b[49m\n\u001b[1;32m    316\u001b[0m \u001b[38;5;28mself\u001b[39m\u001b[38;5;241m.\u001b[39msent_times\u001b[38;5;241m.\u001b[39mappend(time\u001b[38;5;241m.\u001b[39mtime())\n\u001b[1;32m    317\u001b[0m \u001b[38;5;28;01mreturn\u001b[39;00m result\n",
      "File \u001b[0;32m~/miniconda3/lib/python3.8/site-packages/googlemaps/client.py:344\u001b[0m, in \u001b[0;36mClient._get_body\u001b[0;34m(self, response)\u001b[0m\n\u001b[1;32m    340\u001b[0m \u001b[38;5;28;01mif\u001b[39;00m api_status \u001b[38;5;241m==\u001b[39m \u001b[38;5;124m\"\u001b[39m\u001b[38;5;124mOVER_QUERY_LIMIT\u001b[39m\u001b[38;5;124m\"\u001b[39m:\n\u001b[1;32m    341\u001b[0m     \u001b[38;5;28;01mraise\u001b[39;00m googlemaps\u001b[38;5;241m.\u001b[39mexceptions\u001b[38;5;241m.\u001b[39m_OverQueryLimit(\n\u001b[1;32m    342\u001b[0m         api_status, body\u001b[38;5;241m.\u001b[39mget(\u001b[38;5;124m\"\u001b[39m\u001b[38;5;124merror_message\u001b[39m\u001b[38;5;124m\"\u001b[39m))\n\u001b[0;32m--> 344\u001b[0m \u001b[38;5;28;01mraise\u001b[39;00m googlemaps\u001b[38;5;241m.\u001b[39mexceptions\u001b[38;5;241m.\u001b[39mApiError(api_status,\n\u001b[1;32m    345\u001b[0m                                      body\u001b[38;5;241m.\u001b[39mget(\u001b[38;5;124m\"\u001b[39m\u001b[38;5;124merror_message\u001b[39m\u001b[38;5;124m\"\u001b[39m))\n",
      "\u001b[0;31mApiError\u001b[0m: REQUEST_DENIED (You must enable Billing on the Google Cloud Project at https://console.cloud.google.com/project/_/billing/enable Learn more at https://developers.google.com/maps/gmp-get-started)"
     ]
    }
   ],
   "source": [
    "google_geocode('16157 FIELDING DETROIT MI')"
   ]
  },
  {
   "cell_type": "markdown",
   "id": "ddb761e2-d5a1-45b7-a880-9382c027a042",
   "metadata": {},
   "source": [
    "### Compliance df goal:\n",
    "- export list of non-geocoded compliance to google sheets\n",
    "- try to geocode these manually\n",
    "- if can't geocode, then add description column as to why\n",
    "- google sheet: https://docs.google.com/spreadsheets/d/1agyVFNR8gtoQabLZHSyjIecW8lv3LYlD_7BvXUEZRSM/edit#gid=0"
   ]
  },
  {
   "cell_type": "code",
   "execution_count": 9,
   "id": "fa92466c-bfae-4a10-a426-bc9751c5d3e5",
   "metadata": {},
   "outputs": [],
   "source": [
    "compliance_gdf_nogeocode.to_csv('../data/exports/compliance_gdf_nogeocode.csv')"
   ]
  },
  {
   "cell_type": "markdown",
   "id": "74a5858e-5527-4ca8-bbee-cb8363c1c0dd",
   "metadata": {},
   "source": [
    "## Occupancy DF\n",
    "- notes: descriptio column has free text that we could leverage to fill in empty geometry cells\n",
    "- \"AKA 2327 Trumbull Ave\" is an example of the free text - as in, AKA \"address\" is a common pattern, but this already exists / has been extracted into the street_num / street_nam columns - maybe those just have to be geocoded\n",
    "\n",
    "- we're looking for the relationship between housing units and certificates of occupancy. That relationship is often mediated by a building id (use https://cityofdetroit.github.io/base-unit-tools/explorer?id=3263&type=buildings&streetview=true) / there's a xwalk that alice will send over\n",
    "\n",
    "- deliverable should be a table that is the certificate of occupancy number (record_id) and building footprint ids - sometimes these are 1 to 1 and then sometimes multiple occupancy numbers might relate to a single id\n",
    "\n",
    "- the census challenge is interested in having this as a record to when exactly a new building was technically 'habitable' - the \"birthdate\" of the property in terms of occupancy"
   ]
  },
  {
   "cell_type": "code",
   "execution_count": 11,
   "id": "0635f89c-e67d-4cfc-8792-4b47ac3511d3",
   "metadata": {},
   "outputs": [],
   "source": [
    "occupancy_gdf = gpd.read_file('../data/Certificates_Of_Occupancy/Certificates_Of_Occupancy.shp')"
   ]
  },
  {
   "cell_type": "code",
   "execution_count": 12,
   "id": "43b736aa-7592-438e-aa1c-0789ae7baebf",
   "metadata": {},
   "outputs": [
    {
     "data": {
      "text/plain": [
       "0.16166666666666665"
      ]
     },
     "execution_count": 12,
     "metadata": {},
     "output_type": "execute_result"
    }
   ],
   "source": [
    "len(occupancy_gdf[occupancy_gdf['geometry'].isna()])/len(occupancy_gdf)"
   ]
  },
  {
   "cell_type": "code",
   "execution_count": 13,
   "id": "070bc74b-7799-46d3-b298-3a5152ff69d2",
   "metadata": {},
   "outputs": [
    {
     "data": {
      "text/plain": [
       "97"
      ]
     },
     "execution_count": 13,
     "metadata": {},
     "output_type": "execute_result"
    }
   ],
   "source": [
    "len(occupancy_gdf[occupancy_gdf['geometry'].isna()])"
   ]
  },
  {
   "cell_type": "code",
   "execution_count": 14,
   "id": "2d878f0d-1e8e-475a-bfb9-d3c2b303f634",
   "metadata": {},
   "outputs": [
    {
     "data": {
      "text/html": [
       "<div>\n",
       "<style scoped>\n",
       "    .dataframe tbody tr th:only-of-type {\n",
       "        vertical-align: middle;\n",
       "    }\n",
       "\n",
       "    .dataframe tbody tr th {\n",
       "        vertical-align: top;\n",
       "    }\n",
       "\n",
       "    .dataframe thead th {\n",
       "        text-align: right;\n",
       "    }\n",
       "</style>\n",
       "<table border=\"1\" class=\"dataframe\">\n",
       "  <thead>\n",
       "    <tr style=\"text-align: right;\">\n",
       "      <th></th>\n",
       "      <th>record_id</th>\n",
       "      <th>street_num</th>\n",
       "      <th>street_dir</th>\n",
       "      <th>street_nam</th>\n",
       "      <th>street_typ</th>\n",
       "      <th>descriptio</th>\n",
       "      <th>status</th>\n",
       "      <th>date_statu</th>\n",
       "      <th>parcel_id</th>\n",
       "      <th>lon</th>\n",
       "      <th>lat</th>\n",
       "      <th>ObjectId</th>\n",
       "      <th>geometry</th>\n",
       "    </tr>\n",
       "  </thead>\n",
       "  <tbody>\n",
       "    <tr>\n",
       "      <th>4</th>\n",
       "      <td>BLD2017-06254</td>\n",
       "      <td>8401</td>\n",
       "      <td>None</td>\n",
       "      <td>WOODMONT 14</td>\n",
       "      <td>None</td>\n",
       "      <td>SEE BLD2017-00831\\nAKA 8227, 8237, 8243, 8251 ...</td>\n",
       "      <td>CofO Issued</td>\n",
       "      <td>2019-02-23</td>\n",
       "      <td>None</td>\n",
       "      <td>NaN</td>\n",
       "      <td>NaN</td>\n",
       "      <td>5</td>\n",
       "      <td>None</td>\n",
       "    </tr>\n",
       "    <tr>\n",
       "      <th>12</th>\n",
       "      <td>BLD2019-03478</td>\n",
       "      <td>1541</td>\n",
       "      <td>None</td>\n",
       "      <td>Fisher Frwy</td>\n",
       "      <td>None</td>\n",
       "      <td>AKA 1541 W. Fisher Freeway Unit 29. Per BZA #4...</td>\n",
       "      <td>CofO Issued</td>\n",
       "      <td>2020-08-12</td>\n",
       "      <td>None</td>\n",
       "      <td>NaN</td>\n",
       "      <td>NaN</td>\n",
       "      <td>13</td>\n",
       "      <td>None</td>\n",
       "    </tr>\n",
       "    <tr>\n",
       "      <th>23</th>\n",
       "      <td>BLD2019-04976</td>\n",
       "      <td>2327</td>\n",
       "      <td>None</td>\n",
       "      <td>Trumbull</td>\n",
       "      <td>None</td>\n",
       "      <td>AKA 2327 Trumbull Ave. Unit 20. Per BZA #4-18,...</td>\n",
       "      <td>CofO Issued</td>\n",
       "      <td>2020-10-15</td>\n",
       "      <td>None</td>\n",
       "      <td>NaN</td>\n",
       "      <td>NaN</td>\n",
       "      <td>24</td>\n",
       "      <td>None</td>\n",
       "    </tr>\n",
       "    <tr>\n",
       "      <th>25</th>\n",
       "      <td>BLD2018-05987</td>\n",
       "      <td>1230</td>\n",
       "      <td>None</td>\n",
       "      <td>LIBRARY</td>\n",
       "      <td>None</td>\n",
       "      <td>PERMANENT CERTIFICATE OF OCCUPANCY ISSUED</td>\n",
       "      <td>CofO Issued</td>\n",
       "      <td>2019-04-22</td>\n",
       "      <td>None</td>\n",
       "      <td>NaN</td>\n",
       "      <td>NaN</td>\n",
       "      <td>26</td>\n",
       "      <td>None</td>\n",
       "    </tr>\n",
       "    <tr>\n",
       "      <th>36</th>\n",
       "      <td>BLD2019-00054</td>\n",
       "      <td>2817</td>\n",
       "      <td>None</td>\n",
       "      <td>BRUSH</td>\n",
       "      <td>None</td>\n",
       "      <td>ERECT A 4 STORY, TOWNHOME AS PER EPLANS AND CE...</td>\n",
       "      <td>CofO Issued</td>\n",
       "      <td>2021-06-01</td>\n",
       "      <td>None</td>\n",
       "      <td>NaN</td>\n",
       "      <td>NaN</td>\n",
       "      <td>37</td>\n",
       "      <td>None</td>\n",
       "    </tr>\n",
       "    <tr>\n",
       "      <th>...</th>\n",
       "      <td>...</td>\n",
       "      <td>...</td>\n",
       "      <td>...</td>\n",
       "      <td>...</td>\n",
       "      <td>...</td>\n",
       "      <td>...</td>\n",
       "      <td>...</td>\n",
       "      <td>...</td>\n",
       "      <td>...</td>\n",
       "      <td>...</td>\n",
       "      <td>...</td>\n",
       "      <td>...</td>\n",
       "      <td>...</td>\n",
       "    </tr>\n",
       "    <tr>\n",
       "      <th>576</th>\n",
       "      <td>BLD2017-09621</td>\n",
       "      <td>286</td>\n",
       "      <td>None</td>\n",
       "      <td>ALFRED</td>\n",
       "      <td>None</td>\n",
       "      <td>(AKA 292 ALFRED) ERECT A 3 STORY, TOWNHOUSE W/...</td>\n",
       "      <td>CofO Issued</td>\n",
       "      <td>2021-09-07</td>\n",
       "      <td>None</td>\n",
       "      <td>NaN</td>\n",
       "      <td>NaN</td>\n",
       "      <td>577</td>\n",
       "      <td>None</td>\n",
       "    </tr>\n",
       "    <tr>\n",
       "      <th>582</th>\n",
       "      <td>BLD2019-00679</td>\n",
       "      <td>2807</td>\n",
       "      <td>None</td>\n",
       "      <td>Brush</td>\n",
       "      <td>None</td>\n",
       "      <td>New residential structure 8  units 4 story tow...</td>\n",
       "      <td>CofO Issued</td>\n",
       "      <td>2021-05-28</td>\n",
       "      <td>None</td>\n",
       "      <td>NaN</td>\n",
       "      <td>NaN</td>\n",
       "      <td>583</td>\n",
       "      <td>None</td>\n",
       "    </tr>\n",
       "    <tr>\n",
       "      <th>592</th>\n",
       "      <td>BLD2020-00477</td>\n",
       "      <td>4501</td>\n",
       "      <td>None</td>\n",
       "      <td>St. Aubin</td>\n",
       "      <td>None</td>\n",
       "      <td>Revision to BLD2019-02421 per plans.\\r\\n(Const...</td>\n",
       "      <td>CofO Issued</td>\n",
       "      <td>2021-02-24</td>\n",
       "      <td>None</td>\n",
       "      <td>NaN</td>\n",
       "      <td>NaN</td>\n",
       "      <td>593</td>\n",
       "      <td>None</td>\n",
       "    </tr>\n",
       "    <tr>\n",
       "      <th>595</th>\n",
       "      <td>BLD2019-02529</td>\n",
       "      <td>692</td>\n",
       "      <td>None</td>\n",
       "      <td>AMSTERDAM</td>\n",
       "      <td>None</td>\n",
       "      <td>Revision to BLD2018-07772 to reflect changes t...</td>\n",
       "      <td>CofO Issued</td>\n",
       "      <td>2020-08-19</td>\n",
       "      <td>None</td>\n",
       "      <td>NaN</td>\n",
       "      <td>NaN</td>\n",
       "      <td>596</td>\n",
       "      <td>None</td>\n",
       "    </tr>\n",
       "    <tr>\n",
       "      <th>596</th>\n",
       "      <td>BLD2019-00722</td>\n",
       "      <td>500</td>\n",
       "      <td>None</td>\n",
       "      <td>RENAISSANCE CENTER</td>\n",
       "      <td>None</td>\n",
       "      <td>Change of Occupancy to expand an existing Day ...</td>\n",
       "      <td>CofO Issued</td>\n",
       "      <td>2019-07-30</td>\n",
       "      <td>None</td>\n",
       "      <td>NaN</td>\n",
       "      <td>NaN</td>\n",
       "      <td>597</td>\n",
       "      <td>None</td>\n",
       "    </tr>\n",
       "  </tbody>\n",
       "</table>\n",
       "<p>97 rows × 13 columns</p>\n",
       "</div>"
      ],
      "text/plain": [
       "         record_id  street_num street_dir          street_nam street_typ  \\\n",
       "4    BLD2017-06254        8401       None         WOODMONT 14       None   \n",
       "12   BLD2019-03478        1541       None         Fisher Frwy       None   \n",
       "23   BLD2019-04976        2327       None            Trumbull       None   \n",
       "25   BLD2018-05987        1230       None             LIBRARY       None   \n",
       "36   BLD2019-00054        2817       None               BRUSH       None   \n",
       "..             ...         ...        ...                 ...        ...   \n",
       "576  BLD2017-09621         286       None              ALFRED       None   \n",
       "582  BLD2019-00679        2807       None               Brush       None   \n",
       "592  BLD2020-00477        4501       None           St. Aubin       None   \n",
       "595  BLD2019-02529         692       None           AMSTERDAM       None   \n",
       "596  BLD2019-00722         500       None  RENAISSANCE CENTER       None   \n",
       "\n",
       "                                            descriptio       status  \\\n",
       "4    SEE BLD2017-00831\\nAKA 8227, 8237, 8243, 8251 ...  CofO Issued   \n",
       "12   AKA 1541 W. Fisher Freeway Unit 29. Per BZA #4...  CofO Issued   \n",
       "23   AKA 2327 Trumbull Ave. Unit 20. Per BZA #4-18,...  CofO Issued   \n",
       "25           PERMANENT CERTIFICATE OF OCCUPANCY ISSUED  CofO Issued   \n",
       "36   ERECT A 4 STORY, TOWNHOME AS PER EPLANS AND CE...  CofO Issued   \n",
       "..                                                 ...          ...   \n",
       "576  (AKA 292 ALFRED) ERECT A 3 STORY, TOWNHOUSE W/...  CofO Issued   \n",
       "582  New residential structure 8  units 4 story tow...  CofO Issued   \n",
       "592  Revision to BLD2019-02421 per plans.\\r\\n(Const...  CofO Issued   \n",
       "595  Revision to BLD2018-07772 to reflect changes t...  CofO Issued   \n",
       "596  Change of Occupancy to expand an existing Day ...  CofO Issued   \n",
       "\n",
       "     date_statu parcel_id  lon  lat  ObjectId geometry  \n",
       "4    2019-02-23      None  NaN  NaN         5     None  \n",
       "12   2020-08-12      None  NaN  NaN        13     None  \n",
       "23   2020-10-15      None  NaN  NaN        24     None  \n",
       "25   2019-04-22      None  NaN  NaN        26     None  \n",
       "36   2021-06-01      None  NaN  NaN        37     None  \n",
       "..          ...       ...  ...  ...       ...      ...  \n",
       "576  2021-09-07      None  NaN  NaN       577     None  \n",
       "582  2021-05-28      None  NaN  NaN       583     None  \n",
       "592  2021-02-24      None  NaN  NaN       593     None  \n",
       "595  2020-08-19      None  NaN  NaN       596     None  \n",
       "596  2019-07-30      None  NaN  NaN       597     None  \n",
       "\n",
       "[97 rows x 13 columns]"
      ]
     },
     "execution_count": 14,
     "metadata": {},
     "output_type": "execute_result"
    }
   ],
   "source": [
    "occupancy_gdf[occupancy_gdf['geometry'].isna()]"
   ]
  },
  {
   "cell_type": "code",
   "execution_count": 15,
   "id": "575b7bb5-50d4-47f4-a7ce-f705186d37cd",
   "metadata": {},
   "outputs": [
    {
     "data": {
      "text/plain": [
       "'(AKA 3321 Cochrane) Construct (11) unit Rowhouse building and Accessory Garages per BZA (41-19) & (SLU2019-00020) per Plans.\\r\\n(Permit reviewed under BLD2019-03775)'"
      ]
     },
     "execution_count": 15,
     "metadata": {},
     "output_type": "execute_result"
    }
   ],
   "source": [
    "occupancy_gdf['descriptio'][occupancy_gdf['record_id']=='BLD2021-02415'].values[0]"
   ]
  },
  {
   "cell_type": "code",
   "execution_count": 16,
   "id": "90e2124f-69c3-4b7f-a117-41b0c22ab70c",
   "metadata": {},
   "outputs": [
    {
     "data": {
      "text/html": [
       "<div>\n",
       "<style scoped>\n",
       "    .dataframe tbody tr th:only-of-type {\n",
       "        vertical-align: middle;\n",
       "    }\n",
       "\n",
       "    .dataframe tbody tr th {\n",
       "        vertical-align: top;\n",
       "    }\n",
       "\n",
       "    .dataframe thead th {\n",
       "        text-align: right;\n",
       "    }\n",
       "</style>\n",
       "<table border=\"1\" class=\"dataframe\">\n",
       "  <thead>\n",
       "    <tr style=\"text-align: right;\">\n",
       "      <th></th>\n",
       "      <th>record_id</th>\n",
       "      <th>street_num</th>\n",
       "      <th>street_dir</th>\n",
       "      <th>street_nam</th>\n",
       "      <th>street_typ</th>\n",
       "      <th>descriptio</th>\n",
       "      <th>status</th>\n",
       "      <th>date_statu</th>\n",
       "      <th>parcel_id</th>\n",
       "      <th>lon</th>\n",
       "      <th>lat</th>\n",
       "      <th>ObjectId</th>\n",
       "      <th>geometry</th>\n",
       "    </tr>\n",
       "  </thead>\n",
       "  <tbody>\n",
       "    <tr>\n",
       "      <th>467</th>\n",
       "      <td>BLD2021-02415</td>\n",
       "      <td>3303</td>\n",
       "      <td>None</td>\n",
       "      <td>COCHRANE</td>\n",
       "      <td>None</td>\n",
       "      <td>(AKA 3321 Cochrane) Construct (11) unit Rowhou...</td>\n",
       "      <td>CofO Issued</td>\n",
       "      <td>2021-10-11</td>\n",
       "      <td>08006537.001</td>\n",
       "      <td>-83.074239</td>\n",
       "      <td>42.339555</td>\n",
       "      <td>468</td>\n",
       "      <td>POINT (-83.07424 42.33956)</td>\n",
       "    </tr>\n",
       "  </tbody>\n",
       "</table>\n",
       "</div>"
      ],
      "text/plain": [
       "         record_id  street_num street_dir street_nam street_typ  \\\n",
       "467  BLD2021-02415        3303       None   COCHRANE       None   \n",
       "\n",
       "                                            descriptio       status  \\\n",
       "467  (AKA 3321 Cochrane) Construct (11) unit Rowhou...  CofO Issued   \n",
       "\n",
       "     date_statu     parcel_id        lon        lat  ObjectId  \\\n",
       "467  2021-10-11  08006537.001 -83.074239  42.339555       468   \n",
       "\n",
       "                       geometry  \n",
       "467  POINT (-83.07424 42.33956)  "
      ]
     },
     "execution_count": 16,
     "metadata": {},
     "output_type": "execute_result"
    }
   ],
   "source": [
    "occupancy_gdf[occupancy_gdf['record_id']=='BLD2021-02415']"
   ]
  },
  {
   "cell_type": "code",
   "execution_count": 17,
   "id": "524a4322-7929-4bd8-8cfe-94a673db30e9",
   "metadata": {},
   "outputs": [
    {
     "data": {
      "text/plain": [
       "600"
      ]
     },
     "execution_count": 17,
     "metadata": {},
     "output_type": "execute_result"
    }
   ],
   "source": [
    "len(occupancy_gdf)"
   ]
  },
  {
   "cell_type": "code",
   "execution_count": 18,
   "id": "a0101200-344d-4dfa-ac57-52cc27a3a4f3",
   "metadata": {},
   "outputs": [],
   "source": [
    "occupancy_gdf_empty = occupancy_gdf[occupancy_gdf['geometry'].isna()]"
   ]
  },
  {
   "cell_type": "code",
   "execution_count": 20,
   "id": "056aad34-06df-428b-ae42-60f398a04e1b",
   "metadata": {},
   "outputs": [
    {
     "data": {
      "text/html": [
       "<div>\n",
       "<style scoped>\n",
       "    .dataframe tbody tr th:only-of-type {\n",
       "        vertical-align: middle;\n",
       "    }\n",
       "\n",
       "    .dataframe tbody tr th {\n",
       "        vertical-align: top;\n",
       "    }\n",
       "\n",
       "    .dataframe thead th {\n",
       "        text-align: right;\n",
       "    }\n",
       "</style>\n",
       "<table border=\"1\" class=\"dataframe\">\n",
       "  <thead>\n",
       "    <tr style=\"text-align: right;\">\n",
       "      <th></th>\n",
       "      <th>record_id</th>\n",
       "      <th>street_num</th>\n",
       "      <th>street_dir</th>\n",
       "      <th>street_nam</th>\n",
       "      <th>street_typ</th>\n",
       "      <th>descriptio</th>\n",
       "      <th>status</th>\n",
       "      <th>date_statu</th>\n",
       "      <th>parcel_id</th>\n",
       "      <th>lon</th>\n",
       "      <th>lat</th>\n",
       "      <th>ObjectId</th>\n",
       "      <th>geometry</th>\n",
       "    </tr>\n",
       "  </thead>\n",
       "  <tbody>\n",
       "    <tr>\n",
       "      <th>84</th>\n",
       "      <td>BLD2019-00680</td>\n",
       "      <td>2809</td>\n",
       "      <td>None</td>\n",
       "      <td>Brush</td>\n",
       "      <td>None</td>\n",
       "      <td>Erect  4 story , 8 unit townhomes as per eplan...</td>\n",
       "      <td>CofO Issued</td>\n",
       "      <td>2021-04-05</td>\n",
       "      <td>None</td>\n",
       "      <td>NaN</td>\n",
       "      <td>NaN</td>\n",
       "      <td>85</td>\n",
       "      <td>None</td>\n",
       "    </tr>\n",
       "  </tbody>\n",
       "</table>\n",
       "</div>"
      ],
      "text/plain": [
       "        record_id  street_num street_dir street_nam street_typ  \\\n",
       "84  BLD2019-00680        2809       None      Brush       None   \n",
       "\n",
       "                                           descriptio       status  \\\n",
       "84  Erect  4 story , 8 unit townhomes as per eplan...  CofO Issued   \n",
       "\n",
       "    date_statu parcel_id  lon  lat  ObjectId geometry  \n",
       "84  2021-04-05      None  NaN  NaN        85     None  "
      ]
     },
     "execution_count": 20,
     "metadata": {},
     "output_type": "execute_result"
    }
   ],
   "source": [
    "occupancy_gdf_empty[occupancy_gdf_empty['record_id']=='BLD2019-00680']"
   ]
  },
  {
   "cell_type": "code",
   "execution_count": 21,
   "id": "b9299daf-0212-4dad-b7e1-72a60291d26a",
   "metadata": {},
   "outputs": [
    {
     "data": {
      "text/plain": [
       "array(['Erect  4 story , 8 unit townhomes as per eplans w/ a certificate of appropriateness'],\n",
       "      dtype=object)"
      ]
     },
     "execution_count": 21,
     "metadata": {},
     "output_type": "execute_result"
    }
   ],
   "source": [
    "occupancy_gdf_empty['descriptio'][occupancy_gdf_empty['record_id']=='BLD2019-00680'].values"
   ]
  },
  {
   "cell_type": "code",
   "execution_count": 22,
   "id": "c8222669-4092-4829-abc0-a2c6c21c0cbe",
   "metadata": {},
   "outputs": [
    {
     "data": {
      "text/plain": [
       "array(['Modify previous Change of Use Permit to Provisioning Center by adding grow facility; changes to the restroom facilities.'],\n",
       "      dtype=object)"
      ]
     },
     "execution_count": 22,
     "metadata": {},
     "output_type": "execute_result"
    }
   ],
   "source": [
    "occupancy_gdf_empty['descriptio'][occupancy_gdf_empty['record_id']=='BLD2020-01564'].values"
   ]
  },
  {
   "cell_type": "code",
   "execution_count": 23,
   "id": "2c332f0a-f284-42e4-929a-2ecb0c7394c2",
   "metadata": {},
   "outputs": [
    {
     "data": {
      "text/plain": [
       "array(['INTERIOR ALTERATIONS TO ESTABLISH USE FOR TENANT SPACE AS COSMETIC RETAIL\\nPERMANENT CERTIFICATE OF OCCUPANCY ISSUED (03-20-2019)'],\n",
       "      dtype=object)"
      ]
     },
     "execution_count": 23,
     "metadata": {},
     "output_type": "execute_result"
    }
   ],
   "source": [
    "occupancy_gdf_empty['descriptio'][occupancy_gdf_empty['record_id']=='BLD2019-00033'].values"
   ]
  },
  {
   "cell_type": "code",
   "execution_count": 24,
   "id": "2fd78960-e1f7-4359-adc0-6b8ad072f80c",
   "metadata": {},
   "outputs": [
    {
     "data": {
      "text/plain": [
       "'Interior alterations per plans.(1500 E. Woodbridge Suite address per plans, Separate Tenant Build-Out Permit required to establish Occupancy). Subject to all Applicable Federal, State, and Local Executive Orders.\\r\\n(AKA 1583 Franklin)'"
      ]
     },
     "execution_count": 24,
     "metadata": {},
     "output_type": "execute_result"
    }
   ],
   "source": [
    "occupancy_gdf_empty['descriptio'][occupancy_gdf_empty['record_id']=='BLD2020-04413'].values[0]"
   ]
  },
  {
   "cell_type": "markdown",
   "id": "31d2bf3e-f032-4412-8e2a-6551be1631ce",
   "metadata": {},
   "source": [
    "- note: this building is at the corner of e. woodbridge and franklin (hence the aka 1583 franklin)"
   ]
  },
  {
   "cell_type": "code",
   "execution_count": 25,
   "id": "a9d7183e-2e56-41d9-bcbe-c45594356676",
   "metadata": {},
   "outputs": [
    {
     "data": {
      "text/html": [
       "<div>\n",
       "<style scoped>\n",
       "    .dataframe tbody tr th:only-of-type {\n",
       "        vertical-align: middle;\n",
       "    }\n",
       "\n",
       "    .dataframe tbody tr th {\n",
       "        vertical-align: top;\n",
       "    }\n",
       "\n",
       "    .dataframe thead th {\n",
       "        text-align: right;\n",
       "    }\n",
       "</style>\n",
       "<table border=\"1\" class=\"dataframe\">\n",
       "  <thead>\n",
       "    <tr style=\"text-align: right;\">\n",
       "      <th></th>\n",
       "      <th>record_id</th>\n",
       "      <th>street_num</th>\n",
       "      <th>street_dir</th>\n",
       "      <th>street_nam</th>\n",
       "      <th>street_typ</th>\n",
       "      <th>descriptio</th>\n",
       "      <th>status</th>\n",
       "      <th>date_statu</th>\n",
       "      <th>parcel_id</th>\n",
       "      <th>lon</th>\n",
       "      <th>lat</th>\n",
       "      <th>ObjectId</th>\n",
       "      <th>geometry</th>\n",
       "    </tr>\n",
       "  </thead>\n",
       "  <tbody>\n",
       "    <tr>\n",
       "      <th>393</th>\n",
       "      <td>BLD2020-04413</td>\n",
       "      <td>1522</td>\n",
       "      <td>None</td>\n",
       "      <td>WOODBRIDGE</td>\n",
       "      <td>None</td>\n",
       "      <td>Interior alterations per plans.(1500 E. Woodbr...</td>\n",
       "      <td>CofO Issued</td>\n",
       "      <td>2021-04-12</td>\n",
       "      <td>None</td>\n",
       "      <td>NaN</td>\n",
       "      <td>NaN</td>\n",
       "      <td>394</td>\n",
       "      <td>None</td>\n",
       "    </tr>\n",
       "  </tbody>\n",
       "</table>\n",
       "</div>"
      ],
      "text/plain": [
       "         record_id  street_num street_dir  street_nam street_typ  \\\n",
       "393  BLD2020-04413        1522       None  WOODBRIDGE       None   \n",
       "\n",
       "                                            descriptio       status  \\\n",
       "393  Interior alterations per plans.(1500 E. Woodbr...  CofO Issued   \n",
       "\n",
       "     date_statu parcel_id  lon  lat  ObjectId geometry  \n",
       "393  2021-04-12      None  NaN  NaN       394     None  "
      ]
     },
     "execution_count": 25,
     "metadata": {},
     "output_type": "execute_result"
    }
   ],
   "source": [
    "occupancy_gdf_empty[occupancy_gdf_empty['record_id']=='BLD2020-04413']"
   ]
  },
  {
   "cell_type": "code",
   "execution_count": 26,
   "id": "54c043a8-740c-404b-b610-d8873ad9fced",
   "metadata": {},
   "outputs": [
    {
     "data": {
      "text/plain": [
       "array([\"AKA 2327 Trumbull Ave. Unit 20. Per BZA #4-18, Construct 34' L X 21' W X 37' H Townhouse per plans.\"],\n",
       "      dtype=object)"
      ]
     },
     "execution_count": 26,
     "metadata": {},
     "output_type": "execute_result"
    }
   ],
   "source": [
    "occupancy_gdf_empty['descriptio'][occupancy_gdf_empty['record_id']=='BLD2019-04976'].values"
   ]
  },
  {
   "cell_type": "code",
   "execution_count": 27,
   "id": "2bd93f7e-5258-40e7-99c5-d0f4bb5d7593",
   "metadata": {},
   "outputs": [
    {
     "data": {
      "text/plain": [
       "array(['AKA 8032, 8040, 8046, 8056 MEMORIAL. ERECTION OF ONE 4 UNIT ONE STORY WOOD FRAMED TOWNHOUSE AS PER PLANS. SEE BLD2017-00831 FOR MASTER SET OF PLANS.'],\n",
       "      dtype=object)"
      ]
     },
     "execution_count": 27,
     "metadata": {},
     "output_type": "execute_result"
    }
   ],
   "source": [
    "occupancy_gdf_empty['descriptio'][occupancy_gdf_empty['record_id']=='BLD2017-06240'].values"
   ]
  },
  {
   "cell_type": "markdown",
   "id": "d8856473-d2e0-4ca8-8e38-f3370e7790b8",
   "metadata": {},
   "source": [
    "## Rental Statuses / Rental Registrations\n",
    "### Notes:\n",
    "- https://data.detroitmi.gov/datasets/rental-statuses-1/explore\n",
    "- no descriptions / free text, so could be a limitation on using that to geocode\n",
    "- BSEED data overly relies on parcels, so they can't really take into account buildings that have both rentals _and_ owner occupied units, like 120 seward\n",
    "- so, those mixed buildings will not all be in this data, and the counts will be low. 120 seward only has 2 observations\n",
    "- bseed probably only cares about building level data i.e. is the building sound and safe\n",
    "- bseed is city department (https://detroitmi.gov/departments/buildings-safety-engineering-and-environmental-department)"
   ]
  },
  {
   "cell_type": "code",
   "execution_count": 28,
   "id": "ec5b73a4-cd0d-4c01-94e6-b1684a349ac7",
   "metadata": {},
   "outputs": [],
   "source": [
    "rental_gdf = gpd.read_file('../data/Rental_Statuses/Rental_Statuses.shp')"
   ]
  },
  {
   "cell_type": "code",
   "execution_count": 29,
   "id": "217a5c42-0761-4a32-b46a-d9dcfd6359a0",
   "metadata": {},
   "outputs": [
    {
     "data": {
      "text/plain": [
       "0.00803870216790339"
      ]
     },
     "execution_count": 29,
     "metadata": {},
     "output_type": "execute_result"
    }
   ],
   "source": [
    "len(rental_gdf[rental_gdf['geometry'].isna()])/len(rental_gdf)"
   ]
  },
  {
   "cell_type": "code",
   "execution_count": 30,
   "id": "7305b7ab-12fc-4931-85ca-05d4d6fd48c7",
   "metadata": {},
   "outputs": [
    {
     "data": {
      "text/plain": [
       "221"
      ]
     },
     "execution_count": 30,
     "metadata": {},
     "output_type": "execute_result"
    }
   ],
   "source": [
    "len(rental_gdf[rental_gdf['geometry'].isna()])"
   ]
  },
  {
   "cell_type": "code",
   "execution_count": 39,
   "id": "8fbff9f2-6d27-44ff-b240-88f57d79cbbe",
   "metadata": {},
   "outputs": [],
   "source": [
    "rental_gdf['date_statu'] = pd.to_datetime(rental_gdf['date_statu'])"
   ]
  },
  {
   "cell_type": "code",
   "execution_count": 40,
   "id": "30a93c79-85a4-49e5-8f0e-213132901cc4",
   "metadata": {},
   "outputs": [
    {
     "data": {
      "text/plain": [
       "Timestamp('2022-05-15 00:00:00')"
      ]
     },
     "execution_count": 40,
     "metadata": {},
     "output_type": "execute_result"
    }
   ],
   "source": [
    "rental_gdf['date_statu'].max()"
   ]
  },
  {
   "cell_type": "code",
   "execution_count": 31,
   "id": "ea4e74e3-e1ee-4d50-9a82-f2ff164cddf9",
   "metadata": {},
   "outputs": [
    {
     "data": {
      "text/plain": [
       "27492"
      ]
     },
     "execution_count": 31,
     "metadata": {},
     "output_type": "execute_result"
    }
   ],
   "source": [
    "len(rental_gdf)"
   ]
  },
  {
   "cell_type": "code",
   "execution_count": 32,
   "id": "1d06d872-c715-41d7-acb0-2ccefcc982f0",
   "metadata": {},
   "outputs": [
    {
     "data": {
      "text/html": [
       "<div>\n",
       "<style scoped>\n",
       "    .dataframe tbody tr th:only-of-type {\n",
       "        vertical-align: middle;\n",
       "    }\n",
       "\n",
       "    .dataframe tbody tr th {\n",
       "        vertical-align: top;\n",
       "    }\n",
       "\n",
       "    .dataframe thead th {\n",
       "        text-align: right;\n",
       "    }\n",
       "</style>\n",
       "<table border=\"1\" class=\"dataframe\">\n",
       "  <thead>\n",
       "    <tr style=\"text-align: right;\">\n",
       "      <th></th>\n",
       "      <th>record_id</th>\n",
       "      <th>street_num</th>\n",
       "      <th>street_dir</th>\n",
       "      <th>street_nam</th>\n",
       "      <th>street_typ</th>\n",
       "      <th>date_statu</th>\n",
       "      <th>zip</th>\n",
       "      <th>record_typ</th>\n",
       "      <th>owner_name</th>\n",
       "      <th>owner_addr</th>\n",
       "      <th>owner_city</th>\n",
       "      <th>owner_stat</th>\n",
       "      <th>owner_zip</th>\n",
       "      <th>task</th>\n",
       "      <th>status</th>\n",
       "      <th>parcel_id</th>\n",
       "      <th>lon</th>\n",
       "      <th>lat</th>\n",
       "      <th>ObjectId</th>\n",
       "      <th>geometry</th>\n",
       "    </tr>\n",
       "  </thead>\n",
       "  <tbody>\n",
       "    <tr>\n",
       "      <th>8322</th>\n",
       "      <td>REG2020-08775</td>\n",
       "      <td>120</td>\n",
       "      <td>None</td>\n",
       "      <td>SEWARD</td>\n",
       "      <td>None</td>\n",
       "      <td>2020-12-21</td>\n",
       "      <td>48202</td>\n",
       "      <td>Rental Registration</td>\n",
       "      <td>THOMPSON, BARRY E</td>\n",
       "      <td>120 SEWARD UNIT 401</td>\n",
       "      <td>DETROIT</td>\n",
       "      <td>MI</td>\n",
       "      <td>48202</td>\n",
       "      <td>Issue Registration</td>\n",
       "      <td>Issued</td>\n",
       "      <td>02001199.</td>\n",
       "      <td>-83.079031</td>\n",
       "      <td>42.374195</td>\n",
       "      <td>8323</td>\n",
       "      <td>POINT (-83.07903 42.37420)</td>\n",
       "    </tr>\n",
       "    <tr>\n",
       "      <th>25324</th>\n",
       "      <td>RNT2020-00032</td>\n",
       "      <td>120</td>\n",
       "      <td>None</td>\n",
       "      <td>SEWARD</td>\n",
       "      <td>None</td>\n",
       "      <td>2020-01-03</td>\n",
       "      <td>48202</td>\n",
       "      <td>Rental Property Initial Registration</td>\n",
       "      <td>ELIZABETH TINTINALLI</td>\n",
       "      <td>863 BARRINGTON ROAD</td>\n",
       "      <td>GROSSE POINTE PARK</td>\n",
       "      <td>MI</td>\n",
       "      <td>48230</td>\n",
       "      <td>Issue Registration</td>\n",
       "      <td>Issued</td>\n",
       "      <td>02001199.</td>\n",
       "      <td>-83.079031</td>\n",
       "      <td>42.374195</td>\n",
       "      <td>25325</td>\n",
       "      <td>POINT (-83.07903 42.37420)</td>\n",
       "    </tr>\n",
       "  </tbody>\n",
       "</table>\n",
       "</div>"
      ],
      "text/plain": [
       "           record_id street_num street_dir street_nam street_typ  date_statu  \\\n",
       "8322   REG2020-08775        120       None     SEWARD       None  2020-12-21   \n",
       "25324  RNT2020-00032        120       None     SEWARD       None  2020-01-03   \n",
       "\n",
       "         zip                            record_typ            owner_name  \\\n",
       "8322   48202                   Rental Registration     THOMPSON, BARRY E   \n",
       "25324  48202  Rental Property Initial Registration  ELIZABETH TINTINALLI   \n",
       "\n",
       "                owner_addr          owner_city owner_stat owner_zip  \\\n",
       "8322   120 SEWARD UNIT 401             DETROIT         MI     48202   \n",
       "25324  863 BARRINGTON ROAD  GROSSE POINTE PARK         MI     48230   \n",
       "\n",
       "                     task  status  parcel_id        lon        lat  ObjectId  \\\n",
       "8322   Issue Registration  Issued  02001199. -83.079031  42.374195      8323   \n",
       "25324  Issue Registration  Issued  02001199. -83.079031  42.374195     25325   \n",
       "\n",
       "                         geometry  \n",
       "8322   POINT (-83.07903 42.37420)  \n",
       "25324  POINT (-83.07903 42.37420)  "
      ]
     },
     "execution_count": 32,
     "metadata": {},
     "output_type": "execute_result"
    }
   ],
   "source": [
    "rental_gdf[(rental_gdf['street_num']=='120') & (rental_gdf['street_nam']=='SEWARD')]"
   ]
  },
  {
   "cell_type": "markdown",
   "id": "7c82a829-4656-4b89-add5-d53003dcea2b",
   "metadata": {},
   "source": [
    "- for 18224 hartwell, could be a typo (google maps shows a point right at the lodge and hartwell, without an address there) - we _could_ look donna coulter up in the assessor's db (parcel dataset on open data portal) to see if the address is correct there"
   ]
  },
  {
   "cell_type": "code",
   "execution_count": 33,
   "id": "31d9bd9e-98db-4b9b-b5a3-59c7dfe12933",
   "metadata": {},
   "outputs": [
    {
     "data": {
      "text/html": [
       "<div>\n",
       "<style scoped>\n",
       "    .dataframe tbody tr th:only-of-type {\n",
       "        vertical-align: middle;\n",
       "    }\n",
       "\n",
       "    .dataframe tbody tr th {\n",
       "        vertical-align: top;\n",
       "    }\n",
       "\n",
       "    .dataframe thead th {\n",
       "        text-align: right;\n",
       "    }\n",
       "</style>\n",
       "<table border=\"1\" class=\"dataframe\">\n",
       "  <thead>\n",
       "    <tr style=\"text-align: right;\">\n",
       "      <th></th>\n",
       "      <th>record_id</th>\n",
       "      <th>street_num</th>\n",
       "      <th>street_dir</th>\n",
       "      <th>street_nam</th>\n",
       "      <th>street_typ</th>\n",
       "      <th>date_statu</th>\n",
       "      <th>zip</th>\n",
       "      <th>record_typ</th>\n",
       "      <th>owner_name</th>\n",
       "      <th>owner_addr</th>\n",
       "      <th>owner_city</th>\n",
       "      <th>owner_stat</th>\n",
       "      <th>owner_zip</th>\n",
       "      <th>task</th>\n",
       "      <th>status</th>\n",
       "      <th>parcel_id</th>\n",
       "      <th>lon</th>\n",
       "      <th>lat</th>\n",
       "      <th>ObjectId</th>\n",
       "      <th>geometry</th>\n",
       "    </tr>\n",
       "  </thead>\n",
       "  <tbody>\n",
       "    <tr>\n",
       "      <th>12290</th>\n",
       "      <td>REG2021-04347</td>\n",
       "      <td>1533</td>\n",
       "      <td>None</td>\n",
       "      <td>LARNED</td>\n",
       "      <td>None</td>\n",
       "      <td>2021-05-21</td>\n",
       "      <td>48207</td>\n",
       "      <td>Rental Registration</td>\n",
       "      <td>ORLEANS OWNER LLC</td>\n",
       "      <td>2550 TELEGRAPH RD SUITE 200</td>\n",
       "      <td>BLOOMFIELD HILLS</td>\n",
       "      <td>MI</td>\n",
       "      <td>48302</td>\n",
       "      <td>Issue Registration</td>\n",
       "      <td>Issued</td>\n",
       "      <td>None</td>\n",
       "      <td>NaN</td>\n",
       "      <td>NaN</td>\n",
       "      <td>12291</td>\n",
       "      <td>None</td>\n",
       "    </tr>\n",
       "    <tr>\n",
       "      <th>5678</th>\n",
       "      <td>REG2020-06129</td>\n",
       "      <td>4018</td>\n",
       "      <td>None</td>\n",
       "      <td>29th</td>\n",
       "      <td>None</td>\n",
       "      <td>2020-09-08</td>\n",
       "      <td>48221</td>\n",
       "      <td>Rental Registration</td>\n",
       "      <td>Newberry Homes LDHA-LP</td>\n",
       "      <td>16250 Northland Dr. Suite 301</td>\n",
       "      <td>Southfield</td>\n",
       "      <td>MI</td>\n",
       "      <td>48075</td>\n",
       "      <td>Issue Registration</td>\n",
       "      <td>Issued</td>\n",
       "      <td>None</td>\n",
       "      <td>NaN</td>\n",
       "      <td>NaN</td>\n",
       "      <td>5679</td>\n",
       "      <td>None</td>\n",
       "    </tr>\n",
       "    <tr>\n",
       "      <th>14427</th>\n",
       "      <td>REG2021-06367</td>\n",
       "      <td>5010.0</td>\n",
       "      <td>None</td>\n",
       "      <td>OPAL</td>\n",
       "      <td>None</td>\n",
       "      <td>2021-08-05</td>\n",
       "      <td>48236.0</td>\n",
       "      <td>Rental Registration</td>\n",
       "      <td>NUNZIO, RUISE</td>\n",
       "      <td>5010 CANYON ST</td>\n",
       "      <td>GROSSE POINTE</td>\n",
       "      <td>MI</td>\n",
       "      <td>48236 221</td>\n",
       "      <td>Issue Registration</td>\n",
       "      <td>Issued</td>\n",
       "      <td>None</td>\n",
       "      <td>NaN</td>\n",
       "      <td>NaN</td>\n",
       "      <td>14428</td>\n",
       "      <td>None</td>\n",
       "    </tr>\n",
       "    <tr>\n",
       "      <th>27482</th>\n",
       "      <td>RNTR2021-00099</td>\n",
       "      <td>5061</td>\n",
       "      <td>None</td>\n",
       "      <td>-67 E OUTER DRIVE BLDG F</td>\n",
       "      <td>None</td>\n",
       "      <td>2021-05-05</td>\n",
       "      <td>48234</td>\n",
       "      <td>Rental Property Registration Renewal</td>\n",
       "      <td>INTERNATIONAL APARTMENTS LLC</td>\n",
       "      <td>32500 W EIGHT MILE</td>\n",
       "      <td>FARMINGTON</td>\n",
       "      <td>MI</td>\n",
       "      <td>48336</td>\n",
       "      <td>Issue Registration</td>\n",
       "      <td>Issued</td>\n",
       "      <td>None</td>\n",
       "      <td>NaN</td>\n",
       "      <td>NaN</td>\n",
       "      <td>27483</td>\n",
       "      <td>None</td>\n",
       "    </tr>\n",
       "    <tr>\n",
       "      <th>25180</th>\n",
       "      <td>RNT2019-08295</td>\n",
       "      <td>23401</td>\n",
       "      <td>WEST</td>\n",
       "      <td>Eight MILE</td>\n",
       "      <td>None</td>\n",
       "      <td>2019-09-16</td>\n",
       "      <td>48219</td>\n",
       "      <td>Rental Property Initial Registration</td>\n",
       "      <td>BONNIEVIEW APARTMENTS LLC</td>\n",
       "      <td>15777 W 10 MILE RD suite 101</td>\n",
       "      <td>SOUTHFIELD</td>\n",
       "      <td>MI</td>\n",
       "      <td>48076</td>\n",
       "      <td>Issue Registration</td>\n",
       "      <td>Issued</td>\n",
       "      <td>None</td>\n",
       "      <td>NaN</td>\n",
       "      <td>NaN</td>\n",
       "      <td>25181</td>\n",
       "      <td>None</td>\n",
       "    </tr>\n",
       "  </tbody>\n",
       "</table>\n",
       "</div>"
      ],
      "text/plain": [
       "            record_id street_num street_dir                street_nam  \\\n",
       "12290   REG2021-04347       1533       None                    LARNED   \n",
       "5678    REG2020-06129       4018       None                      29th   \n",
       "14427   REG2021-06367     5010.0       None                      OPAL   \n",
       "27482  RNTR2021-00099       5061       None  -67 E OUTER DRIVE BLDG F   \n",
       "25180   RNT2019-08295      23401       WEST                Eight MILE   \n",
       "\n",
       "      street_typ  date_statu      zip                            record_typ  \\\n",
       "12290       None  2021-05-21    48207                   Rental Registration   \n",
       "5678        None  2020-09-08    48221                   Rental Registration   \n",
       "14427       None  2021-08-05  48236.0                   Rental Registration   \n",
       "27482       None  2021-05-05    48234  Rental Property Registration Renewal   \n",
       "25180       None  2019-09-16    48219  Rental Property Initial Registration   \n",
       "\n",
       "                         owner_name                     owner_addr  \\\n",
       "12290             ORLEANS OWNER LLC    2550 TELEGRAPH RD SUITE 200   \n",
       "5678         Newberry Homes LDHA-LP  16250 Northland Dr. Suite 301   \n",
       "14427                 NUNZIO, RUISE                 5010 CANYON ST   \n",
       "27482  INTERNATIONAL APARTMENTS LLC             32500 W EIGHT MILE   \n",
       "25180     BONNIEVIEW APARTMENTS LLC   15777 W 10 MILE RD suite 101   \n",
       "\n",
       "             owner_city owner_stat  owner_zip                task  status  \\\n",
       "12290  BLOOMFIELD HILLS         MI      48302  Issue Registration  Issued   \n",
       "5678         Southfield         MI      48075  Issue Registration  Issued   \n",
       "14427     GROSSE POINTE         MI  48236 221  Issue Registration  Issued   \n",
       "27482        FARMINGTON         MI      48336  Issue Registration  Issued   \n",
       "25180        SOUTHFIELD         MI      48076  Issue Registration  Issued   \n",
       "\n",
       "      parcel_id  lon  lat  ObjectId geometry  \n",
       "12290      None  NaN  NaN     12291     None  \n",
       "5678       None  NaN  NaN      5679     None  \n",
       "14427      None  NaN  NaN     14428     None  \n",
       "27482      None  NaN  NaN     27483     None  \n",
       "25180      None  NaN  NaN     25181     None  "
      ]
     },
     "execution_count": 33,
     "metadata": {},
     "output_type": "execute_result"
    }
   ],
   "source": [
    "rental_gdf[rental_gdf['geometry'].isna()].sample(5)"
   ]
  },
  {
   "cell_type": "markdown",
   "id": "ab3bba54-65b0-429c-b4f8-8d04217b501d",
   "metadata": {},
   "source": [
    "### example for RNTR2021-00099 / 5061 E outer drive bldg F\n",
    "- 17016320.003 is parcel ID\n",
    "- dashes (like -67 E outer drive) trips up the geocoder\n",
    "- we manually looked this up on https://cityofdetroit.github.io/base-unit-tools"
   ]
  },
  {
   "cell_type": "markdown",
   "id": "dc3c0696-f11f-4c88-aee9-12aa33de5286",
   "metadata": {},
   "source": [
    "### example for REG2021-06367 / 5010 OPAL\n",
    "- 21078528. is parcel ID\n",
    "- looking up in base units explorer, it has it as 5010 canyon - bseed thought this was opal (on the corner of opal and canyon) - could be that the assessor thought it was on opal\n",
    "- we can report this to the assessor's to fix this"
   ]
  },
  {
   "cell_type": "markdown",
   "id": "26c81a6d-0813-4fa2-98e1-6a2ab6e283eb",
   "metadata": {},
   "source": [
    "## Parcel Data\n",
    "- https://data.detroitmi.gov/datasets/parcels-2/explore?location=42.352680%2C-83.099134%2C10.81\n",
    "- fuzzy match on Donna Coulter"
   ]
  },
  {
   "cell_type": "code",
   "execution_count": 34,
   "id": "28483acb-1281-4510-b447-c272164c08d9",
   "metadata": {},
   "outputs": [],
   "source": [
    "parcel_gdf = gpd.read_file('../data/Parcels/Parcels.shp')"
   ]
  },
  {
   "cell_type": "code",
   "execution_count": 35,
   "id": "e2c382bd-b197-4c03-aada-f360213bf6ea",
   "metadata": {},
   "outputs": [
    {
     "data": {
      "text/html": [
       "<div>\n",
       "<style scoped>\n",
       "    .dataframe tbody tr th:only-of-type {\n",
       "        vertical-align: middle;\n",
       "    }\n",
       "\n",
       "    .dataframe tbody tr th {\n",
       "        vertical-align: top;\n",
       "    }\n",
       "\n",
       "    .dataframe thead th {\n",
       "        text-align: right;\n",
       "    }\n",
       "</style>\n",
       "<table border=\"1\" class=\"dataframe\">\n",
       "  <thead>\n",
       "    <tr style=\"text-align: right;\">\n",
       "      <th></th>\n",
       "      <th>OBJECTID</th>\n",
       "      <th>object_id</th>\n",
       "      <th>parcel_num</th>\n",
       "      <th>ward</th>\n",
       "      <th>address</th>\n",
       "      <th>council_di</th>\n",
       "      <th>zip_code</th>\n",
       "      <th>taxpayer_1</th>\n",
       "      <th>taxpayer_2</th>\n",
       "      <th>taxpayer_s</th>\n",
       "      <th>...</th>\n",
       "      <th>assessed_v</th>\n",
       "      <th>taxable_va</th>\n",
       "      <th>landmap</th>\n",
       "      <th>related</th>\n",
       "      <th>zoning</th>\n",
       "      <th>subdivisio</th>\n",
       "      <th>legal_desc</th>\n",
       "      <th>SHAPE_Leng</th>\n",
       "      <th>SHAPE_Area</th>\n",
       "      <th>geometry</th>\n",
       "    </tr>\n",
       "  </thead>\n",
       "  <tbody>\n",
       "    <tr>\n",
       "      <th>0</th>\n",
       "      <td>1</td>\n",
       "      <td>3084</td>\n",
       "      <td>16014523.</td>\n",
       "      <td>16</td>\n",
       "      <td>4700 CAMPBELL</td>\n",
       "      <td>6</td>\n",
       "      <td>48209</td>\n",
       "      <td>SPEARS, KRYSTAL</td>\n",
       "      <td>None</td>\n",
       "      <td>4700 CAMPBELL</td>\n",
       "      <td>...</td>\n",
       "      <td>10700.0</td>\n",
       "      <td>7777.0</td>\n",
       "      <td>105</td>\n",
       "      <td>None</td>\n",
       "      <td>R2</td>\n",
       "      <td>None</td>\n",
       "      <td>Property exempt from Ad Valorem taxes and asse...</td>\n",
       "      <td>0.000925</td>\n",
       "      <td>3.259140e-08</td>\n",
       "      <td>POLYGON ((-83.11830 42.33727, -83.11830 42.337...</td>\n",
       "    </tr>\n",
       "    <tr>\n",
       "      <th>1</th>\n",
       "      <td>2</td>\n",
       "      <td>3085</td>\n",
       "      <td>16013773.</td>\n",
       "      <td>16</td>\n",
       "      <td>4909 35TH ST</td>\n",
       "      <td>6</td>\n",
       "      <td>48210</td>\n",
       "      <td>POBEREZHNYY, NIKOLAY</td>\n",
       "      <td>None</td>\n",
       "      <td>4909 35TH ST</td>\n",
       "      <td>...</td>\n",
       "      <td>12700.0</td>\n",
       "      <td>7845.0</td>\n",
       "      <td>105</td>\n",
       "      <td>None</td>\n",
       "      <td>R2</td>\n",
       "      <td>None</td>\n",
       "      <td>W 35TH ST 23 BLK 15-FYFE BARBOUR &amp; WARRENS SUB...</td>\n",
       "      <td>0.000880</td>\n",
       "      <td>3.036103e-08</td>\n",
       "      <td>POLYGON ((-83.11828 42.33796, -83.11796 42.338...</td>\n",
       "    </tr>\n",
       "    <tr>\n",
       "      <th>2</th>\n",
       "      <td>3</td>\n",
       "      <td>3086</td>\n",
       "      <td>16014658.</td>\n",
       "      <td>16</td>\n",
       "      <td>4627 CAMPBELL</td>\n",
       "      <td>6</td>\n",
       "      <td>48209</td>\n",
       "      <td>URIBE-JUAREZ, MARIA GUADALUPE</td>\n",
       "      <td>None</td>\n",
       "      <td>4627 N CAMPBELL ST</td>\n",
       "      <td>...</td>\n",
       "      <td>12900.0</td>\n",
       "      <td>9918.0</td>\n",
       "      <td>105</td>\n",
       "      <td>None</td>\n",
       "      <td>R2</td>\n",
       "      <td>None</td>\n",
       "      <td>W--NO CAMPBELL 112 SUB OF PT OF P C 171 L12 P2...</td>\n",
       "      <td>0.001142</td>\n",
       "      <td>4.177216e-08</td>\n",
       "      <td>POLYGON ((-83.11828 42.33610, -83.11784 42.336...</td>\n",
       "    </tr>\n",
       "    <tr>\n",
       "      <th>3</th>\n",
       "      <td>4</td>\n",
       "      <td>3087</td>\n",
       "      <td>16013698.</td>\n",
       "      <td>16</td>\n",
       "      <td>4962 35TH ST</td>\n",
       "      <td>6</td>\n",
       "      <td>48210</td>\n",
       "      <td>PEREZ, MATEO GOMEZ</td>\n",
       "      <td>None</td>\n",
       "      <td>4962 35TH STREET</td>\n",
       "      <td>...</td>\n",
       "      <td>8200.0</td>\n",
       "      <td>5672.0</td>\n",
       "      <td>105</td>\n",
       "      <td>None</td>\n",
       "      <td>R2</td>\n",
       "      <td>None</td>\n",
       "      <td>E 35TH ST 11 BLK 16-FYFE BARBOUR &amp; WARRENS SUB...</td>\n",
       "      <td>0.000880</td>\n",
       "      <td>3.044350e-08</td>\n",
       "      <td>POLYGON ((-83.11827 42.33881, -83.11795 42.338...</td>\n",
       "    </tr>\n",
       "    <tr>\n",
       "      <th>4</th>\n",
       "      <td>5</td>\n",
       "      <td>3088</td>\n",
       "      <td>18002630.</td>\n",
       "      <td>18</td>\n",
       "      <td>6325 PELOUZE</td>\n",
       "      <td>6</td>\n",
       "      <td>48210</td>\n",
       "      <td>MCDERMOTT, LANCE S</td>\n",
       "      <td>None</td>\n",
       "      <td>6681 MERCIER ST</td>\n",
       "      <td>...</td>\n",
       "      <td>300.0</td>\n",
       "      <td>300.0</td>\n",
       "      <td>105</td>\n",
       "      <td>None</td>\n",
       "      <td>R2</td>\n",
       "      <td>None</td>\n",
       "      <td>N PELOUZE 116 WESSON &amp; INGERSOLLS SUB L5 P47 P...</td>\n",
       "      <td>0.000905</td>\n",
       "      <td>3.553440e-08</td>\n",
       "      <td>POLYGON ((-83.12477 42.33497, -83.12467 42.335...</td>\n",
       "    </tr>\n",
       "  </tbody>\n",
       "</table>\n",
       "<p>5 rows × 41 columns</p>\n",
       "</div>"
      ],
      "text/plain": [
       "   OBJECTID  object_id parcel_num ward        address council_di zip_code  \\\n",
       "0         1       3084  16014523.   16  4700 CAMPBELL          6    48209   \n",
       "1         2       3085  16013773.   16   4909 35TH ST          6    48210   \n",
       "2         3       3086  16014658.   16  4627 CAMPBELL          6    48209   \n",
       "3         4       3087  16013698.   16   4962 35TH ST          6    48210   \n",
       "4         5       3088  18002630.   18   6325 PELOUZE          6    48210   \n",
       "\n",
       "                      taxpayer_1 taxpayer_2          taxpayer_s  ...  \\\n",
       "0                SPEARS, KRYSTAL       None       4700 CAMPBELL  ...   \n",
       "1           POBEREZHNYY, NIKOLAY       None        4909 35TH ST  ...   \n",
       "2  URIBE-JUAREZ, MARIA GUADALUPE       None  4627 N CAMPBELL ST  ...   \n",
       "3             PEREZ, MATEO GOMEZ       None    4962 35TH STREET  ...   \n",
       "4             MCDERMOTT, LANCE S       None     6681 MERCIER ST  ...   \n",
       "\n",
       "  assessed_v taxable_va landmap related zoning subdivisio  \\\n",
       "0    10700.0     7777.0     105    None     R2       None   \n",
       "1    12700.0     7845.0     105    None     R2       None   \n",
       "2    12900.0     9918.0     105    None     R2       None   \n",
       "3     8200.0     5672.0     105    None     R2       None   \n",
       "4      300.0      300.0     105    None     R2       None   \n",
       "\n",
       "                                          legal_desc SHAPE_Leng    SHAPE_Area  \\\n",
       "0  Property exempt from Ad Valorem taxes and asse...   0.000925  3.259140e-08   \n",
       "1  W 35TH ST 23 BLK 15-FYFE BARBOUR & WARRENS SUB...   0.000880  3.036103e-08   \n",
       "2  W--NO CAMPBELL 112 SUB OF PT OF P C 171 L12 P2...   0.001142  4.177216e-08   \n",
       "3  E 35TH ST 11 BLK 16-FYFE BARBOUR & WARRENS SUB...   0.000880  3.044350e-08   \n",
       "4  N PELOUZE 116 WESSON & INGERSOLLS SUB L5 P47 P...   0.000905  3.553440e-08   \n",
       "\n",
       "                                            geometry  \n",
       "0  POLYGON ((-83.11830 42.33727, -83.11830 42.337...  \n",
       "1  POLYGON ((-83.11828 42.33796, -83.11796 42.338...  \n",
       "2  POLYGON ((-83.11828 42.33610, -83.11784 42.336...  \n",
       "3  POLYGON ((-83.11827 42.33881, -83.11795 42.338...  \n",
       "4  POLYGON ((-83.12477 42.33497, -83.12467 42.335...  \n",
       "\n",
       "[5 rows x 41 columns]"
      ]
     },
     "execution_count": 35,
     "metadata": {},
     "output_type": "execute_result"
    }
   ],
   "source": [
    "parcel_gdf.head()"
   ]
  },
  {
   "cell_type": "code",
   "execution_count": 36,
   "id": "f810d3c1-3473-4d90-b6b1-e3c6e088d343",
   "metadata": {},
   "outputs": [],
   "source": [
    "parcel_gdf_nona = parcel_gdf[~parcel_gdf['taxpayer_1'].isna()]"
   ]
  },
  {
   "cell_type": "code",
   "execution_count": 37,
   "id": "66122b9d-f309-49f2-81cb-aed249d076e5",
   "metadata": {},
   "outputs": [
    {
     "data": {
      "text/html": [
       "<div>\n",
       "<style scoped>\n",
       "    .dataframe tbody tr th:only-of-type {\n",
       "        vertical-align: middle;\n",
       "    }\n",
       "\n",
       "    .dataframe tbody tr th {\n",
       "        vertical-align: top;\n",
       "    }\n",
       "\n",
       "    .dataframe thead th {\n",
       "        text-align: right;\n",
       "    }\n",
       "</style>\n",
       "<table border=\"1\" class=\"dataframe\">\n",
       "  <thead>\n",
       "    <tr style=\"text-align: right;\">\n",
       "      <th></th>\n",
       "      <th>OBJECTID</th>\n",
       "      <th>object_id</th>\n",
       "      <th>parcel_num</th>\n",
       "      <th>ward</th>\n",
       "      <th>address</th>\n",
       "      <th>council_di</th>\n",
       "      <th>zip_code</th>\n",
       "      <th>taxpayer_1</th>\n",
       "      <th>taxpayer_2</th>\n",
       "      <th>taxpayer_s</th>\n",
       "      <th>...</th>\n",
       "      <th>assessed_v</th>\n",
       "      <th>taxable_va</th>\n",
       "      <th>landmap</th>\n",
       "      <th>related</th>\n",
       "      <th>zoning</th>\n",
       "      <th>subdivisio</th>\n",
       "      <th>legal_desc</th>\n",
       "      <th>SHAPE_Leng</th>\n",
       "      <th>SHAPE_Area</th>\n",
       "      <th>geometry</th>\n",
       "    </tr>\n",
       "  </thead>\n",
       "  <tbody>\n",
       "    <tr>\n",
       "      <th>33379</th>\n",
       "      <td>33380</td>\n",
       "      <td>37280</td>\n",
       "      <td>16019088.</td>\n",
       "      <td>16</td>\n",
       "      <td>18224 STOEPEL</td>\n",
       "      <td>2</td>\n",
       "      <td>48221</td>\n",
       "      <td>COULTER, DONNA M</td>\n",
       "      <td>None</td>\n",
       "      <td>7390 OLD MILL RD</td>\n",
       "      <td>...</td>\n",
       "      <td>26200.0</td>\n",
       "      <td>16094.0</td>\n",
       "      <td>169</td>\n",
       "      <td>None</td>\n",
       "      <td>R1</td>\n",
       "      <td>None</td>\n",
       "      <td>E STOEPEL 371 CANTERBURY GARDEN NO 1 L37 P66 P...</td>\n",
       "      <td>0.000964</td>\n",
       "      <td>3.711491e-08</td>\n",
       "      <td>POLYGON ((-83.14213 42.42488, -83.14175 42.424...</td>\n",
       "    </tr>\n",
       "  </tbody>\n",
       "</table>\n",
       "<p>1 rows × 41 columns</p>\n",
       "</div>"
      ],
      "text/plain": [
       "       OBJECTID  object_id parcel_num ward        address council_di zip_code  \\\n",
       "33379     33380      37280  16019088.   16  18224 STOEPEL          2    48221   \n",
       "\n",
       "             taxpayer_1 taxpayer_2        taxpayer_s  ... assessed_v  \\\n",
       "33379  COULTER, DONNA M       None  7390 OLD MILL RD  ...    26200.0   \n",
       "\n",
       "      taxable_va landmap related zoning subdivisio  \\\n",
       "33379    16094.0     169    None     R1       None   \n",
       "\n",
       "                                              legal_desc SHAPE_Leng  \\\n",
       "33379  E STOEPEL 371 CANTERBURY GARDEN NO 1 L37 P66 P...   0.000964   \n",
       "\n",
       "         SHAPE_Area                                           geometry  \n",
       "33379  3.711491e-08  POLYGON ((-83.14213 42.42488, -83.14175 42.424...  \n",
       "\n",
       "[1 rows x 41 columns]"
      ]
     },
     "execution_count": 37,
     "metadata": {},
     "output_type": "execute_result"
    }
   ],
   "source": [
    "parcel_gdf_nona[(parcel_gdf_nona['taxpayer_1'].str.contains('COULTER')) & parcel_gdf_nona['taxpayer_1'].str.contains('DONNA')]"
   ]
  },
  {
   "cell_type": "markdown",
   "id": "38da8bd0-3f2d-4748-b854-a062c13889b4",
   "metadata": {},
   "source": [
    "- alright, 18224 HARTWELL should've been 18224 STOEPEL - alternate goal is to document any mistakes I find in the geocoding / data entry, and give that to the city. Needs to be added to the db"
   ]
  },
  {
   "cell_type": "markdown",
   "id": "908c647b-6976-4cfc-8c51-2704eafc3408",
   "metadata": {},
   "source": [
    "## Geocoding\n",
    "- first 2.5k free...?\n",
    "https://developers.google.com/maps/documentation/geocoding/#Limits"
   ]
  },
  {
   "cell_type": "code",
   "execution_count": null,
   "id": "9438217d-964b-4d3c-8ef0-2f7fb27e438b",
   "metadata": {},
   "outputs": [],
   "source": []
  }
 ],
 "metadata": {
  "kernelspec": {
   "display_name": "Python 3",
   "language": "python",
   "name": "python3"
  },
  "language_info": {
   "codemirror_mode": {
    "name": "ipython",
    "version": 3
   },
   "file_extension": ".py",
   "mimetype": "text/x-python",
   "name": "python",
   "nbconvert_exporter": "python",
   "pygments_lexer": "ipython3",
   "version": "3.8.11"
  }
 },
 "nbformat": 4,
 "nbformat_minor": 5
}
